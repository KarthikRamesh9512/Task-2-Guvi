{
  "cells": [
    {
      "cell_type": "markdown",
      "metadata": {
        "id": "kqjsnEwh7vL7"
      },
      "source": [
        "# Numpy\n",
        "\n"
      ]
    },
    {
      "cell_type": "markdown",
      "metadata": {
        "id": "vM-EJlyi7vMC"
      },
      "source": [
        "#### 1. Import the numpy package under the name `np` (★☆☆) \n",
        "(**hint**: import … as …)"
      ]
    },
    {
      "cell_type": "code",
      "execution_count": 1,
      "metadata": {
        "collapsed": true,
        "id": "9dHVRpHr7vME"
      },
      "outputs": [],
      "source": [
        "import numpy as np"
      ]
    },
    {
      "cell_type": "markdown",
      "metadata": {
        "id": "uxxz39wZ7vMF"
      },
      "source": [
        "#### 2. Print the numpy version and the configuration (★☆☆) \n",
        "(**hint**: np.\\_\\_version\\_\\_, np.show\\_config)"
      ]
    },
    {
      "cell_type": "code",
      "execution_count": null,
      "metadata": {
        "id": "4ZaKClib7vMG",
        "outputId": "fb8eb97a-b104-4fd4-ded7-bf01602bae88",
        "colab": {
          "base_uri": "https://localhost:8080/",
          "height": 36
        }
      },
      "outputs": [
        {
          "output_type": "execute_result",
          "data": {
            "text/plain": [
              "'1.21.6'"
            ],
            "application/vnd.google.colaboratory.intrinsic+json": {
              "type": "string"
            }
          },
          "metadata": {},
          "execution_count": 2
        }
      ],
      "source": [
        "np.__version__"
      ]
    },
    {
      "cell_type": "code",
      "source": [
        "np.show_config()"
      ],
      "metadata": {
        "id": "fPKLZ2vM9MCz",
        "outputId": "d389bfa5-65c8-4ee0-e621-ae5661457b06",
        "colab": {
          "base_uri": "https://localhost:8080/"
        }
      },
      "execution_count": null,
      "outputs": [
        {
          "output_type": "stream",
          "name": "stdout",
          "text": [
            "blas_mkl_info:\n",
            "  NOT AVAILABLE\n",
            "blis_info:\n",
            "  NOT AVAILABLE\n",
            "openblas_info:\n",
            "    libraries = ['openblas', 'openblas']\n",
            "    library_dirs = ['/usr/local/lib']\n",
            "    language = c\n",
            "    define_macros = [('HAVE_CBLAS', None)]\n",
            "    runtime_library_dirs = ['/usr/local/lib']\n",
            "blas_opt_info:\n",
            "    libraries = ['openblas', 'openblas']\n",
            "    library_dirs = ['/usr/local/lib']\n",
            "    language = c\n",
            "    define_macros = [('HAVE_CBLAS', None)]\n",
            "    runtime_library_dirs = ['/usr/local/lib']\n",
            "lapack_mkl_info:\n",
            "  NOT AVAILABLE\n",
            "openblas_lapack_info:\n",
            "    libraries = ['openblas', 'openblas']\n",
            "    library_dirs = ['/usr/local/lib']\n",
            "    language = c\n",
            "    define_macros = [('HAVE_CBLAS', None)]\n",
            "    runtime_library_dirs = ['/usr/local/lib']\n",
            "lapack_opt_info:\n",
            "    libraries = ['openblas', 'openblas']\n",
            "    library_dirs = ['/usr/local/lib']\n",
            "    language = c\n",
            "    define_macros = [('HAVE_CBLAS', None)]\n",
            "    runtime_library_dirs = ['/usr/local/lib']\n",
            "Supported SIMD extensions in this NumPy install:\n",
            "    baseline = SSE,SSE2,SSE3\n",
            "    found = SSSE3,SSE41,POPCNT,SSE42,AVX,F16C,FMA3,AVX2\n",
            "    not found = AVX512F,AVX512CD,AVX512_KNL,AVX512_KNM,AVX512_SKX,AVX512_CLX,AVX512_CNL,AVX512_ICL\n"
          ]
        }
      ]
    },
    {
      "cell_type": "markdown",
      "metadata": {
        "id": "-uW4gWYt7vMG"
      },
      "source": [
        "#### 3. Create a null vector of size 10 (★☆☆) \n",
        "(**hint**: np.zeros)"
      ]
    },
    {
      "cell_type": "code",
      "execution_count": null,
      "metadata": {
        "id": "RQfbYnor7vMH"
      },
      "outputs": [],
      "source": [
        "a=np.zeros(10)"
      ]
    },
    {
      "cell_type": "markdown",
      "metadata": {
        "id": "F2ZdEOS_7vMI"
      },
      "source": [
        "#### 4.  How to find the memory size of any array (★☆☆) \n",
        "(**hint**: size, itemsize)"
      ]
    },
    {
      "cell_type": "code",
      "execution_count": null,
      "metadata": {
        "id": "OkOxkYZm7vMK",
        "outputId": "3e5503a4-850e-4ca5-b90e-4bfd3a9f603a",
        "colab": {
          "base_uri": "https://localhost:8080/"
        }
      },
      "outputs": [
        {
          "output_type": "execute_result",
          "data": {
            "text/plain": [
              "10"
            ]
          },
          "metadata": {},
          "execution_count": 5
        }
      ],
      "source": [
        "a.size"
      ]
    },
    {
      "cell_type": "code",
      "source": [
        "a.itemsize"
      ],
      "metadata": {
        "id": "7K7e-Wtt9aJQ",
        "outputId": "d30242df-20f2-4273-ac18-28d05f76d17c",
        "colab": {
          "base_uri": "https://localhost:8080/"
        }
      },
      "execution_count": null,
      "outputs": [
        {
          "output_type": "execute_result",
          "data": {
            "text/plain": [
              "8"
            ]
          },
          "metadata": {},
          "execution_count": 6
        }
      ]
    },
    {
      "cell_type": "markdown",
      "metadata": {
        "id": "w22GvJKH7vML"
      },
      "source": [
        "#### 5.  How to get the documentation of the numpy add function from the command line? (★☆☆) \n",
        "(**hint**: np.info)"
      ]
    },
    {
      "cell_type": "code",
      "execution_count": null,
      "metadata": {
        "collapsed": true,
        "id": "VcVRKa7q7vMM",
        "outputId": "deec1d03-83a5-4226-c7e0-757f6f25668d",
        "colab": {
          "base_uri": "https://localhost:8080/"
        }
      },
      "outputs": [
        {
          "output_type": "stream",
          "name": "stdout",
          "text": [
            " sum(a, axis=None, dtype=None, out=None, keepdims=<no value>,\n",
            "     initial=<no value>, where=<no value>)\n",
            "\n",
            "Sum of array elements over a given axis.\n",
            "\n",
            "Parameters\n",
            "----------\n",
            "a : array_like\n",
            "    Elements to sum.\n",
            "axis : None or int or tuple of ints, optional\n",
            "    Axis or axes along which a sum is performed.  The default,\n",
            "    axis=None, will sum all of the elements of the input array.  If\n",
            "    axis is negative it counts from the last to the first axis.\n",
            "\n",
            "    .. versionadded:: 1.7.0\n",
            "\n",
            "    If axis is a tuple of ints, a sum is performed on all of the axes\n",
            "    specified in the tuple instead of a single axis or all the axes as\n",
            "    before.\n",
            "dtype : dtype, optional\n",
            "    The type of the returned array and of the accumulator in which the\n",
            "    elements are summed.  The dtype of `a` is used by default unless `a`\n",
            "    has an integer dtype of less precision than the default platform\n",
            "    integer.  In that case, if `a` is signed then the platform integer\n",
            "    is used while if `a` is unsigned then an unsigned integer of the\n",
            "    same precision as the platform integer is used.\n",
            "out : ndarray, optional\n",
            "    Alternative output array in which to place the result. It must have\n",
            "    the same shape as the expected output, but the type of the output\n",
            "    values will be cast if necessary.\n",
            "keepdims : bool, optional\n",
            "    If this is set to True, the axes which are reduced are left\n",
            "    in the result as dimensions with size one. With this option,\n",
            "    the result will broadcast correctly against the input array.\n",
            "\n",
            "    If the default value is passed, then `keepdims` will not be\n",
            "    passed through to the `sum` method of sub-classes of\n",
            "    `ndarray`, however any non-default value will be.  If the\n",
            "    sub-class' method does not implement `keepdims` any\n",
            "    exceptions will be raised.\n",
            "initial : scalar, optional\n",
            "    Starting value for the sum. See `~numpy.ufunc.reduce` for details.\n",
            "\n",
            "    .. versionadded:: 1.15.0\n",
            "\n",
            "where : array_like of bool, optional\n",
            "    Elements to include in the sum. See `~numpy.ufunc.reduce` for details.\n",
            "\n",
            "    .. versionadded:: 1.17.0\n",
            "\n",
            "Returns\n",
            "-------\n",
            "sum_along_axis : ndarray\n",
            "    An array with the same shape as `a`, with the specified\n",
            "    axis removed.   If `a` is a 0-d array, or if `axis` is None, a scalar\n",
            "    is returned.  If an output array is specified, a reference to\n",
            "    `out` is returned.\n",
            "\n",
            "See Also\n",
            "--------\n",
            "ndarray.sum : Equivalent method.\n",
            "\n",
            "add.reduce : Equivalent functionality of `add`.\n",
            "\n",
            "cumsum : Cumulative sum of array elements.\n",
            "\n",
            "trapz : Integration of array values using the composite trapezoidal rule.\n",
            "\n",
            "mean, average\n",
            "\n",
            "Notes\n",
            "-----\n",
            "Arithmetic is modular when using integer types, and no error is\n",
            "raised on overflow.\n",
            "\n",
            "The sum of an empty array is the neutral element 0:\n",
            "\n",
            ">>> np.sum([])\n",
            "0.0\n",
            "\n",
            "For floating point numbers the numerical precision of sum (and\n",
            "``np.add.reduce``) is in general limited by directly adding each number\n",
            "individually to the result causing rounding errors in every step.\n",
            "However, often numpy will use a  numerically better approach (partial\n",
            "pairwise summation) leading to improved precision in many use-cases.\n",
            "This improved precision is always provided when no ``axis`` is given.\n",
            "When ``axis`` is given, it will depend on which axis is summed.\n",
            "Technically, to provide the best speed possible, the improved precision\n",
            "is only used when the summation is along the fast axis in memory.\n",
            "Note that the exact precision may vary depending on other parameters.\n",
            "In contrast to NumPy, Python's ``math.fsum`` function uses a slower but\n",
            "more precise approach to summation.\n",
            "Especially when summing a large number of lower precision floating point\n",
            "numbers, such as ``float32``, numerical errors can become significant.\n",
            "In such cases it can be advisable to use `dtype=\"float64\"` to use a higher\n",
            "precision for the output.\n",
            "\n",
            "Examples\n",
            "--------\n",
            ">>> np.sum([0.5, 1.5])\n",
            "2.0\n",
            ">>> np.sum([0.5, 0.7, 0.2, 1.5], dtype=np.int32)\n",
            "1\n",
            ">>> np.sum([[0, 1], [0, 5]])\n",
            "6\n",
            ">>> np.sum([[0, 1], [0, 5]], axis=0)\n",
            "array([0, 6])\n",
            ">>> np.sum([[0, 1], [0, 5]], axis=1)\n",
            "array([1, 5])\n",
            ">>> np.sum([[0, 1], [np.nan, 5]], where=[False, True], axis=1)\n",
            "array([1., 5.])\n",
            "\n",
            "If the accumulator is too small, overflow occurs:\n",
            "\n",
            ">>> np.ones(128, dtype=np.int8).sum(dtype=np.int8)\n",
            "-128\n",
            "\n",
            "You can also start the sum with a value other than zero:\n",
            "\n",
            ">>> np.sum([10], initial=5)\n",
            "15\n"
          ]
        }
      ],
      "source": [
        "np.info(np.sum)"
      ]
    },
    {
      "cell_type": "code",
      "source": [
        "np.info(np.add)"
      ],
      "metadata": {
        "id": "aVcK_Wlu96vC",
        "outputId": "e979f262-124e-4636-ce22-30f189847a2b",
        "colab": {
          "base_uri": "https://localhost:8080/"
        }
      },
      "execution_count": null,
      "outputs": [
        {
          "output_type": "stream",
          "name": "stdout",
          "text": [
            "add(x1, x2, /, out=None, *, where=True, casting='same_kind', order='K', dtype=None, subok=True[, signature, extobj])\n",
            "\n",
            "Add arguments element-wise.\n",
            "\n",
            "Parameters\n",
            "----------\n",
            "x1, x2 : array_like\n",
            "    The arrays to be added.\n",
            "    If ``x1.shape != x2.shape``, they must be broadcastable to a common\n",
            "    shape (which becomes the shape of the output).\n",
            "out : ndarray, None, or tuple of ndarray and None, optional\n",
            "    A location into which the result is stored. If provided, it must have\n",
            "    a shape that the inputs broadcast to. If not provided or None,\n",
            "    a freshly-allocated array is returned. A tuple (possible only as a\n",
            "    keyword argument) must have length equal to the number of outputs.\n",
            "where : array_like, optional\n",
            "    This condition is broadcast over the input. At locations where the\n",
            "    condition is True, the `out` array will be set to the ufunc result.\n",
            "    Elsewhere, the `out` array will retain its original value.\n",
            "    Note that if an uninitialized `out` array is created via the default\n",
            "    ``out=None``, locations within it where the condition is False will\n",
            "    remain uninitialized.\n",
            "**kwargs\n",
            "    For other keyword-only arguments, see the\n",
            "    :ref:`ufunc docs <ufuncs.kwargs>`.\n",
            "\n",
            "Returns\n",
            "-------\n",
            "add : ndarray or scalar\n",
            "    The sum of `x1` and `x2`, element-wise.\n",
            "    This is a scalar if both `x1` and `x2` are scalars.\n",
            "\n",
            "Notes\n",
            "-----\n",
            "Equivalent to `x1` + `x2` in terms of array broadcasting.\n",
            "\n",
            "Examples\n",
            "--------\n",
            ">>> np.add(1.0, 4.0)\n",
            "5.0\n",
            ">>> x1 = np.arange(9.0).reshape((3, 3))\n",
            ">>> x2 = np.arange(3.0)\n",
            ">>> np.add(x1, x2)\n",
            "array([[  0.,   2.,   4.],\n",
            "       [  3.,   5.,   7.],\n",
            "       [  6.,   8.,  10.]])\n",
            "\n",
            "The ``+`` operator can be used as a shorthand for ``np.add`` on ndarrays.\n",
            "\n",
            ">>> x1 = np.arange(9.0).reshape((3, 3))\n",
            ">>> x2 = np.arange(3.0)\n",
            ">>> x1 + x2\n",
            "array([[ 0.,  2.,  4.],\n",
            "       [ 3.,  5.,  7.],\n",
            "       [ 6.,  8., 10.]])\n"
          ]
        }
      ]
    },
    {
      "cell_type": "markdown",
      "metadata": {
        "id": "X1gL5Rdk7vMM"
      },
      "source": [
        "#### 6.  Create a null vector of size 10 but the fifth value which is 1 (★☆☆) \n",
        "(**hint**: array\\[4\\])"
      ]
    },
    {
      "cell_type": "code",
      "execution_count": null,
      "metadata": {
        "id": "8oWQIev57vMN",
        "outputId": "939a116a-6456-47d6-a422-9cfd354ea768",
        "colab": {
          "base_uri": "https://localhost:8080/"
        }
      },
      "outputs": [
        {
          "output_type": "stream",
          "name": "stdout",
          "text": [
            "[ 1  2  3  4  5  6  7  8  9 10]\n"
          ]
        },
        {
          "output_type": "execute_result",
          "data": {
            "text/plain": [
              "array([ 1,  2,  3,  4,  1,  6,  7,  8,  9, 10])"
            ]
          },
          "metadata": {},
          "execution_count": 9
        }
      ],
      "source": [
        "a=np.arange(1,11)\n",
        "print(a)\n",
        "a[4]=1\n",
        "a"
      ]
    },
    {
      "cell_type": "markdown",
      "metadata": {
        "id": "JgZtntSj7vMN"
      },
      "source": [
        "#### 7.  Create a vector with values ranging from 10 to 49 (★☆☆) \n",
        "(**hint**: np.arange)"
      ]
    },
    {
      "cell_type": "code",
      "execution_count": null,
      "metadata": {
        "id": "82F1PF6n7vMO",
        "outputId": "70b051d2-5543-4e8f-85ac-948d4917a538",
        "colab": {
          "base_uri": "https://localhost:8080/"
        }
      },
      "outputs": [
        {
          "output_type": "execute_result",
          "data": {
            "text/plain": [
              "array([10, 11, 12, 13, 14, 15, 16, 17, 18, 19, 20, 21, 22, 23, 24, 25, 26,\n",
              "       27, 28, 29, 30, 31, 32, 33, 34, 35, 36, 37, 38, 39, 40, 41, 42, 43,\n",
              "       44, 45, 46, 47, 48, 49])"
            ]
          },
          "metadata": {},
          "execution_count": 10
        }
      ],
      "source": [
        "a=np.arange(10,50)\n",
        "a"
      ]
    },
    {
      "cell_type": "markdown",
      "metadata": {
        "id": "LHOWIpNn7vMO"
      },
      "source": [
        "#### 8.  Reverse a vector (first element becomes last) (★☆☆) \n",
        "(**hint**: array\\[::-1\\])"
      ]
    },
    {
      "cell_type": "code",
      "execution_count": null,
      "metadata": {
        "id": "D6iRJt5K7vMP",
        "outputId": "d726555a-9196-40c2-f58c-957d6a60c029",
        "colab": {
          "base_uri": "https://localhost:8080/"
        }
      },
      "outputs": [
        {
          "output_type": "execute_result",
          "data": {
            "text/plain": [
              "array([49, 48, 47, 46, 45, 44, 43, 42, 41, 40, 39, 38, 37, 36, 35, 34, 33,\n",
              "       32, 31, 30, 29, 28, 27, 26, 25, 24, 23, 22, 21, 20, 19, 18, 17, 16,\n",
              "       15, 14, 13, 12, 11, 10])"
            ]
          },
          "metadata": {},
          "execution_count": 11
        }
      ],
      "source": [
        "a[::-1]"
      ]
    },
    {
      "cell_type": "markdown",
      "metadata": {
        "id": "IprO7ASL7vMP"
      },
      "source": [
        "#### 9.  Create a 3x3 matrix with values ranging from 0 to 8 (★☆☆) \n",
        "(**hint**: reshape)"
      ]
    },
    {
      "cell_type": "code",
      "execution_count": null,
      "metadata": {
        "id": "7H13ngtS7vMQ",
        "outputId": "dea57f04-97a9-46a4-83ef-f675a22e267b",
        "colab": {
          "base_uri": "https://localhost:8080/"
        }
      },
      "outputs": [
        {
          "output_type": "execute_result",
          "data": {
            "text/plain": [
              "array([[0, 1, 2],\n",
              "       [3, 4, 5],\n",
              "       [6, 7, 8]])"
            ]
          },
          "metadata": {},
          "execution_count": 12
        }
      ],
      "source": [
        "b=np.arange(0,9).reshape(3,3)\n",
        "b"
      ]
    },
    {
      "cell_type": "markdown",
      "metadata": {
        "id": "U6sL8N2m7vMQ"
      },
      "source": [
        "#### 10. Find indices of non-zero elements from \\[1,2,0,0,4,0\\] (★☆☆) \n",
        "(**hint**: np.nonzero)"
      ]
    },
    {
      "cell_type": "code",
      "execution_count": null,
      "metadata": {
        "id": "B-TWStvK7vMR",
        "outputId": "cce86981-8d66-4bb8-d2aa-ae35ae8284e8",
        "colab": {
          "base_uri": "https://localhost:8080/"
        }
      },
      "outputs": [
        {
          "output_type": "execute_result",
          "data": {
            "text/plain": [
              "(array([0, 1, 4]),)"
            ]
          },
          "metadata": {},
          "execution_count": 13
        }
      ],
      "source": [
        "np.nonzero([1,2,0,0,4,0])"
      ]
    },
    {
      "cell_type": "markdown",
      "metadata": {
        "id": "AyFfC-7E7vMS"
      },
      "source": [
        "#### 11. Create a 3x3 identity matrix (★☆☆) \n",
        "(**hint**: np.eye)"
      ]
    },
    {
      "cell_type": "code",
      "execution_count": null,
      "metadata": {
        "id": "ayXrs9547vMS",
        "outputId": "ea1b9adc-65f9-4731-8a60-70ba8550fe70",
        "colab": {
          "base_uri": "https://localhost:8080/"
        }
      },
      "outputs": [
        {
          "output_type": "execute_result",
          "data": {
            "text/plain": [
              "array([[1., 0., 0.],\n",
              "       [0., 1., 0.],\n",
              "       [0., 0., 1.]])"
            ]
          },
          "metadata": {},
          "execution_count": 14
        }
      ],
      "source": [
        "np.eye(3)"
      ]
    },
    {
      "cell_type": "markdown",
      "metadata": {
        "id": "fK5nMnBo7vMS"
      },
      "source": [
        "#### 12. Create a 3x3x3 array with random values (★☆☆) \n",
        "(**hint**: np.random.random)"
      ]
    },
    {
      "cell_type": "code",
      "execution_count": null,
      "metadata": {
        "id": "Ya15XH_S7vMT",
        "outputId": "b6998362-6b2b-4310-9863-f7838b8f363c",
        "colab": {
          "base_uri": "https://localhost:8080/"
        }
      },
      "outputs": [
        {
          "output_type": "execute_result",
          "data": {
            "text/plain": [
              "array([[[0.00106897, 0.9430137 , 0.56784558],\n",
              "        [0.36844599, 0.96642496, 0.92839783],\n",
              "        [0.42798485, 0.32696147, 0.56080042]],\n",
              "\n",
              "       [[0.01234825, 0.2266877 , 0.63372909],\n",
              "        [0.46217009, 0.06582436, 0.62684675],\n",
              "        [0.63035927, 0.72527802, 0.87671369]],\n",
              "\n",
              "       [[0.63278269, 0.13783752, 0.3769062 ],\n",
              "        [0.46035187, 0.15475854, 0.98169897],\n",
              "        [0.6498679 , 0.27186911, 0.55576191]]])"
            ]
          },
          "metadata": {},
          "execution_count": 15
        }
      ],
      "source": [
        "np.random.random((3,3,3))"
      ]
    },
    {
      "cell_type": "markdown",
      "metadata": {
        "id": "xO4C5XrB7vMT"
      },
      "source": [
        "#### 13. Create a 10x10 array with random values and find the minimum and maximum values (★☆☆) \n",
        "(**hint**: min, max)"
      ]
    },
    {
      "cell_type": "code",
      "execution_count": null,
      "metadata": {
        "id": "9zn1E6rh7vMU",
        "outputId": "5b6eab4b-9c5c-4a1c-a246-c3be6eb16de8",
        "colab": {
          "base_uri": "https://localhost:8080/"
        }
      },
      "outputs": [
        {
          "output_type": "stream",
          "name": "stdout",
          "text": [
            "[[0.46756686 0.66922103 0.03743315 0.68624746 0.8513983  0.16782915\n",
            "  0.03960741 0.95351848 0.63755784 0.61838259]\n",
            " [0.38013813 0.96192333 0.48526201 0.04811475 0.94766826 0.50511241\n",
            "  0.45361273 0.8856638  0.32622756 0.78936819]\n",
            " [0.2442413  0.21155326 0.82261566 0.13030531 0.95023599 0.6547782\n",
            "  0.64672754 0.25098792 0.824963   0.22232054]\n",
            " [0.99053833 0.5675307  0.84436715 0.83265655 0.1495064  0.0537622\n",
            "  0.54990355 0.45033599 0.13854629 0.173534  ]\n",
            " [0.99315405 0.16024246 0.41326364 0.34389242 0.376825   0.71486757\n",
            "  0.02312614 0.83537303 0.07127631 0.25575883]\n",
            " [0.93071898 0.03989192 0.14558456 0.7877559  0.9237793  0.01015065\n",
            "  0.56492626 0.90920581 0.40183024 0.51618998]\n",
            " [0.47974771 0.70014599 0.09470067 0.65187642 0.04215869 0.64493142\n",
            "  0.38984383 0.08338324 0.46392027 0.38935763]\n",
            " [0.09266139 0.95531976 0.10606846 0.72475984 0.1422654  0.58673822\n",
            "  0.12788271 0.45671174 0.8912714  0.74577692]\n",
            " [0.18857996 0.8373058  0.62158209 0.71805052 0.36091639 0.68672497\n",
            "  0.16865528 0.51674867 0.27894744 0.07233105]\n",
            " [0.32384202 0.4097832  0.86152707 0.1146913  0.89940054 0.14793115\n",
            "  0.50539746 0.05394913 0.88416678 0.57130631]]\n",
            "0.010150649678597912 0.9931540517298449\n"
          ]
        }
      ],
      "source": [
        "c=np.random.random((10,10))\n",
        "print(c)\n",
        "print(c.min(),c.max())"
      ]
    },
    {
      "cell_type": "markdown",
      "metadata": {
        "id": "uEHaWQro7vMU"
      },
      "source": [
        "#### 14. Create a random vector of size 30 and find the mean value (★☆☆) \n",
        "(**hint**: mean)"
      ]
    },
    {
      "cell_type": "code",
      "execution_count": null,
      "metadata": {
        "id": "qesvLihl7vMU",
        "outputId": "0824af61-baa6-43db-eb76-084367894df8",
        "colab": {
          "base_uri": "https://localhost:8080/"
        }
      },
      "outputs": [
        {
          "output_type": "execute_result",
          "data": {
            "text/plain": [
              "0.4400579006296476"
            ]
          },
          "metadata": {},
          "execution_count": 17
        }
      ],
      "source": [
        "d=np.random.random(30)\n",
        "d.mean()"
      ]
    },
    {
      "cell_type": "markdown",
      "metadata": {
        "id": "YMNCMlwv7vMV"
      },
      "source": [
        "#### 15. Create a 2d array with 1 on the border and 0 inside (★☆☆) \n",
        "(**hint**: array\\[1:-1, 1:-1\\])"
      ]
    },
    {
      "cell_type": "code",
      "execution_count": null,
      "metadata": {
        "id": "vum9Ke4N7vMV",
        "outputId": "5347fd8e-6dba-4d37-a7af-b7a48d70bc69",
        "colab": {
          "base_uri": "https://localhost:8080/"
        }
      },
      "outputs": [
        {
          "output_type": "execute_result",
          "data": {
            "text/plain": [
              "array([[1., 1., 1., 1., 1.],\n",
              "       [1., 0., 0., 0., 1.],\n",
              "       [1., 0., 0., 0., 1.],\n",
              "       [1., 0., 0., 0., 1.],\n",
              "       [1., 1., 1., 1., 1.]])"
            ]
          },
          "metadata": {},
          "execution_count": 18
        }
      ],
      "source": [
        "e=np.ones((5,5))\n",
        "e[1:-1,1:-1]=0\n",
        "e"
      ]
    },
    {
      "cell_type": "markdown",
      "metadata": {
        "id": "RHucSsHX7vMV"
      },
      "source": [
        "#### 16. How to add a border (filled with 0's) around an existing array? (★☆☆) \n",
        "(**hint**: np.pad)"
      ]
    },
    {
      "cell_type": "code",
      "execution_count": null,
      "metadata": {
        "id": "p79pLFph7vMW",
        "outputId": "64713832-639f-479e-daad-46decbb76016",
        "colab": {
          "base_uri": "https://localhost:8080/"
        }
      },
      "outputs": [
        {
          "output_type": "stream",
          "name": "stdout",
          "text": [
            "[[1. 1. 1. 1. 1.]\n",
            " [1. 0. 0. 0. 1.]\n",
            " [1. 0. 0. 0. 1.]\n",
            " [1. 0. 0. 0. 1.]\n",
            " [1. 1. 1. 1. 1.]]\n"
          ]
        },
        {
          "output_type": "execute_result",
          "data": {
            "text/plain": [
              "array([[0., 0., 0., 0., 0., 0., 0., 0., 0., 0., 0.],\n",
              "       [0., 0., 0., 0., 0., 0., 0., 0., 0., 0., 0.],\n",
              "       [0., 0., 0., 0., 0., 0., 0., 0., 0., 0., 0.],\n",
              "       [0., 0., 0., 1., 1., 1., 1., 1., 0., 0., 0.],\n",
              "       [0., 0., 0., 1., 0., 0., 0., 1., 0., 0., 0.],\n",
              "       [0., 0., 0., 1., 0., 0., 0., 1., 0., 0., 0.],\n",
              "       [0., 0., 0., 1., 0., 0., 0., 1., 0., 0., 0.],\n",
              "       [0., 0., 0., 1., 1., 1., 1., 1., 0., 0., 0.],\n",
              "       [0., 0., 0., 0., 0., 0., 0., 0., 0., 0., 0.],\n",
              "       [0., 0., 0., 0., 0., 0., 0., 0., 0., 0., 0.],\n",
              "       [0., 0., 0., 0., 0., 0., 0., 0., 0., 0., 0.]])"
            ]
          },
          "metadata": {},
          "execution_count": 19
        }
      ],
      "source": [
        "print(e)\n",
        "np.pad(e,pad_width=3,mode=\"constant\",constant_values=0)"
      ]
    },
    {
      "cell_type": "markdown",
      "metadata": {
        "id": "xlM0NpIX7vMW"
      },
      "source": [
        "#### 17. What is the result of the following expression? (★☆☆) \n",
        "(**hint**: NaN = not a number, inf = infinity)"
      ]
    },
    {
      "cell_type": "markdown",
      "metadata": {
        "id": "6o7YtKTc7vMX"
      },
      "source": [
        "```python\n",
        "0 * np.nan\n",
        "np.nan == np.nan\n",
        "np.inf > np.nan\n",
        "np.nan - np.nan\n",
        "0.3 == 3 * 0.1\n",
        "```"
      ]
    },
    {
      "cell_type": "code",
      "execution_count": null,
      "metadata": {
        "id": "R5_sxMi87vMX",
        "outputId": "2cd7c9e2-64c3-417d-e064-36f4a7214730",
        "colab": {
          "base_uri": "https://localhost:8080/"
        }
      },
      "outputs": [
        {
          "output_type": "stream",
          "name": "stdout",
          "text": [
            "nan\n",
            "False\n",
            "False\n",
            "nan\n",
            "False\n"
          ]
        }
      ],
      "source": [
        "print(0*np.nan)\n",
        "print(np.nan==np.nan)\n",
        "print(np.inf>np.nan)\n",
        "print(np.nan-np.nan)\n",
        "print(0.3==3*0.1)"
      ]
    },
    {
      "cell_type": "markdown",
      "metadata": {
        "id": "WV821VUh7vMY"
      },
      "source": [
        "#### 18. Create a 5x5 matrix with values 1,2,3,4 just below the diagonal (★☆☆) \n",
        "(**hint**: np.diag)"
      ]
    },
    {
      "cell_type": "code",
      "execution_count": null,
      "metadata": {
        "id": "ojWL0RAz7vMY",
        "outputId": "528bf6cf-bf9a-4c81-d521-52df19ba4fa3",
        "colab": {
          "base_uri": "https://localhost:8080/"
        }
      },
      "outputs": [
        {
          "output_type": "execute_result",
          "data": {
            "text/plain": [
              "array([[0, 0, 0, 0, 0],\n",
              "       [1, 0, 0, 0, 0],\n",
              "       [0, 2, 0, 0, 0],\n",
              "       [0, 0, 3, 0, 0],\n",
              "       [0, 0, 0, 4, 0]])"
            ]
          },
          "metadata": {},
          "execution_count": 21
        }
      ],
      "source": [
        "np.diag([1,2,3,4],k=-1)"
      ]
    },
    {
      "cell_type": "markdown",
      "metadata": {
        "id": "zU9VBYvx7vMY"
      },
      "source": [
        "#### 19. Create a 8x8 matrix and fill it with a checkerboard pattern (★☆☆) \n",
        "(**hint**: array\\[::2\\])"
      ]
    },
    {
      "cell_type": "code",
      "execution_count": null,
      "metadata": {
        "id": "yZ4TngWs7vMZ",
        "outputId": "8634019c-2751-40b2-b2e1-f85ce5ade561",
        "colab": {
          "base_uri": "https://localhost:8080/"
        }
      },
      "outputs": [
        {
          "output_type": "execute_result",
          "data": {
            "text/plain": [
              "array([[0., 1., 0., 1., 0., 1., 0., 1.],\n",
              "       [1., 0., 1., 0., 1., 0., 1., 0.],\n",
              "       [0., 1., 0., 1., 0., 1., 0., 1.],\n",
              "       [1., 0., 1., 0., 1., 0., 1., 0.],\n",
              "       [0., 1., 0., 1., 0., 1., 0., 1.],\n",
              "       [1., 0., 1., 0., 1., 0., 1., 0.],\n",
              "       [0., 1., 0., 1., 0., 1., 0., 1.],\n",
              "       [1., 0., 1., 0., 1., 0., 1., 0.]])"
            ]
          },
          "metadata": {},
          "execution_count": 22
        }
      ],
      "source": [
        "a = np.zeros((8,8))\n",
        "a[1::2,::2] = 1\n",
        "a[::2,1::2] = 1\n",
        "a"
      ]
    },
    {
      "cell_type": "markdown",
      "metadata": {
        "id": "e8PTE65L7vMZ"
      },
      "source": [
        "#### 20. Consider a (6,7,8) shape array, what is the index (x,y,z) of the 100th element? \n",
        "(**hint**: np.unravel_index)"
      ]
    },
    {
      "cell_type": "code",
      "execution_count": null,
      "metadata": {
        "id": "UszhQyLI7vMa",
        "outputId": "90854e16-ce61-4a58-c32e-b77515a55706",
        "colab": {
          "base_uri": "https://localhost:8080/"
        }
      },
      "outputs": [
        {
          "output_type": "execute_result",
          "data": {
            "text/plain": [
              "(1, 5, 4)"
            ]
          },
          "metadata": {},
          "execution_count": 23
        }
      ],
      "source": [
        "np.unravel_index(100,(6,7,8))"
      ]
    },
    {
      "cell_type": "markdown",
      "metadata": {
        "id": "yiCq7RUU7vMa"
      },
      "source": [
        "#### 21. Create a checkerboard 8x8 matrix using the tile function (★☆☆) \n",
        "(**hint**: np.tile)"
      ]
    },
    {
      "cell_type": "code",
      "execution_count": null,
      "metadata": {
        "id": "UjStvUdz7vMa",
        "colab": {
          "base_uri": "https://localhost:8080/"
        },
        "outputId": "5e522810-2a2d-498a-bf1f-25f8974369dd"
      },
      "outputs": [
        {
          "output_type": "execute_result",
          "data": {
            "text/plain": [
              "array([[0, 1, 0, 1, 0, 1, 0, 1],\n",
              "       [1, 0, 1, 0, 1, 0, 1, 0],\n",
              "       [0, 1, 0, 1, 0, 1, 0, 1],\n",
              "       [1, 0, 1, 0, 1, 0, 1, 0],\n",
              "       [0, 1, 0, 1, 0, 1, 0, 1],\n",
              "       [1, 0, 1, 0, 1, 0, 1, 0],\n",
              "       [0, 1, 0, 1, 0, 1, 0, 1],\n",
              "       [1, 0, 1, 0, 1, 0, 1, 0]])"
            ]
          },
          "metadata": {},
          "execution_count": 24
        }
      ],
      "source": [
        "np.tile(np.array([[0,1],[1,0]]),(4,4))"
      ]
    },
    {
      "cell_type": "markdown",
      "metadata": {
        "id": "QZ5Ls43b7vMb"
      },
      "source": [
        "#### 22. Normalize a 5x5 random matrix (★☆☆) \n",
        "(**hint**: (x - min) / (max - min))"
      ]
    },
    {
      "cell_type": "code",
      "execution_count": null,
      "metadata": {
        "id": "J28tSfEP7vMb",
        "colab": {
          "base_uri": "https://localhost:8080/"
        },
        "outputId": "4ac8ba9b-917c-4207-dba4-569e01bc9797"
      },
      "outputs": [
        {
          "output_type": "execute_result",
          "data": {
            "text/plain": [
              "array([[0.17416848, 0.65619   , 0.45708051, 0.72762148, 0.86955955],\n",
              "       [0.49171533, 0.32498264, 0.33625486, 0.        , 0.00940251],\n",
              "       [0.08645911, 0.81246472, 0.79942627, 0.15788185, 0.71657177],\n",
              "       [1.        , 0.50811794, 0.22334273, 0.18074534, 0.22428667],\n",
              "       [0.7083251 , 0.47666429, 0.18131692, 0.27152661, 0.46906632]])"
            ]
          },
          "metadata": {},
          "execution_count": 25
        }
      ],
      "source": [
        "H=np.random.random((5,5))\n",
        "H = (H - H.min())/(H.max() - H.min())\n",
        "H"
      ]
    },
    {
      "cell_type": "markdown",
      "metadata": {
        "id": "tUbsjHWa7vMb"
      },
      "source": [
        "#### 23. Create a custom dtype that describes a color as four unsigned bytes (RGBA) (★☆☆) \n",
        "(**hint**: np.dtype)"
      ]
    },
    {
      "cell_type": "code",
      "execution_count": null,
      "metadata": {
        "collapsed": true,
        "id": "FvgcQY2C7vMc",
        "colab": {
          "base_uri": "https://localhost:8080/"
        },
        "outputId": "e43f6b7a-9b6b-4d64-b046-ae7b5e9f5977"
      },
      "outputs": [
        {
          "output_type": "stream",
          "name": "stdout",
          "text": [
            "4\n"
          ]
        },
        {
          "output_type": "execute_result",
          "data": {
            "text/plain": [
              "numpy.ndarray"
            ]
          },
          "metadata": {},
          "execution_count": 26
        }
      ],
      "source": [
        "RGBA = np.dtype([('r',np.uint8),('g',np.uint8),('b',np.uint8),('a',np.uint8)])\n",
        "color = np.array((1,2,3,4),dtype = RGBA)\n",
        "print(color['a'])\n",
        "type(color)"
      ]
    },
    {
      "cell_type": "markdown",
      "metadata": {
        "id": "o2iF0ige7vMc"
      },
      "source": [
        "#### 24. Multiply a 5x3 matrix by a 3x2 matrix (real matrix product) (★☆☆) \n",
        "(**hint**: np.dot | @)"
      ]
    },
    {
      "cell_type": "code",
      "execution_count": null,
      "metadata": {
        "id": "amfFTG-r7vMc",
        "colab": {
          "base_uri": "https://localhost:8080/"
        },
        "outputId": "3303233e-10f5-48be-8cdd-954e3efb32da"
      },
      "outputs": [
        {
          "output_type": "execute_result",
          "data": {
            "text/plain": [
              "array([[1.08777839, 1.30542196],\n",
              "       [1.13923657, 1.02223926],\n",
              "       [1.07572987, 1.04555578],\n",
              "       [1.44828436, 1.56474045],\n",
              "       [0.35470869, 0.67648373]])"
            ]
          },
          "metadata": {},
          "execution_count": 27
        }
      ],
      "source": [
        "x=np.random.random((5,3))\n",
        "y=np.random.random((3,2))\n",
        "np.dot(x,y)"
      ]
    },
    {
      "cell_type": "markdown",
      "metadata": {
        "id": "Y1aRnhMp7vMd"
      },
      "source": [
        "#### 25. Given a 1D array, negate all elements which are between 3 and 8, in place. (★☆☆) \n",
        "(**hint**: >, <=)"
      ]
    },
    {
      "cell_type": "code",
      "execution_count": null,
      "metadata": {
        "id": "ocbCOvfi7vMd",
        "colab": {
          "base_uri": "https://localhost:8080/"
        },
        "outputId": "6837d17b-0b54-4392-c10a-1939963feaab"
      },
      "outputs": [
        {
          "output_type": "stream",
          "name": "stdout",
          "text": [
            "[ 1  2  3  4  5  6  7  8  9 10]\n"
          ]
        },
        {
          "output_type": "execute_result",
          "data": {
            "text/plain": [
              "array([ 1,  2,  3, -4, -5, -6, -7,  8,  9, 10])"
            ]
          },
          "metadata": {},
          "execution_count": 28
        }
      ],
      "source": [
        "h=np.arange(1,11)\n",
        "print(h)\n",
        "h[(3<h)&(h<8)]*=-1\n",
        "h"
      ]
    },
    {
      "cell_type": "markdown",
      "metadata": {
        "id": "eS7Xwcrt7vMd"
      },
      "source": [
        "#### 26. What is the output of the following script? (★☆☆) \n",
        "(**hint**: np.sum)"
      ]
    },
    {
      "cell_type": "markdown",
      "metadata": {
        "id": "QbC5In4u7vMe"
      },
      "source": [
        "```python\n",
        "# Author: Jake VanderPlas\n",
        "\n",
        "print(sum(range(5),-1))\n",
        "from numpy import *\n",
        "print(sum(range(5),-1))\n",
        "```"
      ]
    },
    {
      "cell_type": "code",
      "execution_count": null,
      "metadata": {
        "id": "Us8GbrPg7vMe",
        "colab": {
          "base_uri": "https://localhost:8080/"
        },
        "outputId": "e16694b7-c158-4b88-ca00-610a02547154"
      },
      "outputs": [
        {
          "output_type": "stream",
          "name": "stdout",
          "text": [
            "9\n",
            "10\n"
          ]
        }
      ],
      "source": [
        "print(sum(range(5),-1))\n",
        "from numpy import *\n",
        "print(sum(range(5),-1))"
      ]
    },
    {
      "cell_type": "markdown",
      "metadata": {
        "id": "T3tlPuF17vMe"
      },
      "source": [
        "#### 27. Consider an integer vector Z, which of these expressions are legal? (★☆☆)"
      ]
    },
    {
      "cell_type": "markdown",
      "metadata": {
        "id": "QyO-oTIU7vMf"
      },
      "source": [
        "```python\n",
        "Z**Z\n",
        "2 << Z >> 2\n",
        "Z <- Z\n",
        "1j*Z\n",
        "Z/1/1\n",
        "Z<Z>Z\n",
        "```"
      ]
    },
    {
      "cell_type": "code",
      "execution_count": null,
      "metadata": {
        "id": "94fmLjOu7vMf",
        "colab": {
          "base_uri": "https://localhost:8080/"
        },
        "outputId": "5d72f0e1-68f8-4165-9436-957800e7b838"
      },
      "outputs": [
        {
          "output_type": "stream",
          "name": "stdout",
          "text": [
            "[        1         4        27       256      3125     46656    823543\n",
            "  16777216 387420489]\n",
            "[  16   32   64  128  256  512 1024 2048 4096]\n",
            "[False False False False False False False False False]\n",
            "[0.+1.j 0.+2.j 0.+3.j 0.+4.j 0.+5.j 0.+6.j 0.+7.j 0.+8.j 0.+9.j]\n",
            "[1. 2. 3. 4. 5. 6. 7. 8. 9.]\n"
          ]
        }
      ],
      "source": [
        "z=arange(1,10)\n",
        "print(z**z)\n",
        "print(2<<z<<2)\n",
        "print(z<-z)\n",
        "print(1j*z)\n",
        "print(z/1/1)\n",
        "#print(z<z>z)"
      ]
    },
    {
      "cell_type": "markdown",
      "metadata": {
        "id": "adhas34y7vMf"
      },
      "source": [
        "#### 28. What are the result of the following expressions?"
      ]
    },
    {
      "cell_type": "markdown",
      "metadata": {
        "id": "3xlU5Ulb7vMf"
      },
      "source": [
        "```python\n",
        "np.array(0) / np.array(0)\n",
        "np.array(0) // np.array(0)\n",
        "np.array([np.nan]).astype(int).astype(float)\n",
        "```"
      ]
    },
    {
      "cell_type": "code",
      "execution_count": null,
      "metadata": {
        "id": "PSJIWvNh7vMg",
        "colab": {
          "base_uri": "https://localhost:8080/"
        },
        "outputId": "1f2d72f2-9965-4dd6-d536-daf2543e2d8c"
      },
      "outputs": [
        {
          "output_type": "stream",
          "name": "stderr",
          "text": [
            "/usr/local/lib/python3.7/dist-packages/ipykernel_launcher.py:1: RuntimeWarning: invalid value encountered in true_divide\n",
            "  \"\"\"Entry point for launching an IPython kernel.\n",
            "/usr/local/lib/python3.7/dist-packages/ipykernel_launcher.py:2: RuntimeWarning: divide by zero encountered in floor_divide\n",
            "  \n"
          ]
        },
        {
          "output_type": "execute_result",
          "data": {
            "text/plain": [
              "array([-9.22337204e+18])"
            ]
          },
          "metadata": {},
          "execution_count": 31
        }
      ],
      "source": [
        "np.array(0)/np.array(0)\n",
        "np.array(0)//np.array(0)\n",
        "np.array([np.nan]).astype(int).astype(float)"
      ]
    },
    {
      "cell_type": "markdown",
      "metadata": {
        "id": "aPC6PRN07vMg"
      },
      "source": [
        "#### 29. How to round away from zero a float array ? (★☆☆) \n",
        "(**hint**: np.uniform, np.copysign, np.ceil, np.abs)"
      ]
    },
    {
      "cell_type": "code",
      "execution_count": null,
      "metadata": {
        "id": "Pqu-j8Rn7vMg",
        "colab": {
          "base_uri": "https://localhost:8080/"
        },
        "outputId": "b0a43bd1-046e-49c7-d6d7-ba4897296dd4"
      },
      "outputs": [
        {
          "output_type": "stream",
          "name": "stdout",
          "text": [
            "[ 2.92714184 -2.49655607  3.83984047  3.99422222 -3.4923134 ]\n"
          ]
        },
        {
          "output_type": "execute_result",
          "data": {
            "text/plain": [
              "array([2.92714184, 2.49655607, 3.83984047, 3.99422222, 3.4923134 ])"
            ]
          },
          "metadata": {},
          "execution_count": 32
        }
      ],
      "source": [
        "i=np.random.uniform(-9,4,5)\n",
        "print(i)\n",
        "np.copysign(i,+2)\n",
        "np.ceil(i)\n",
        "np.abs(i)"
      ]
    },
    {
      "cell_type": "markdown",
      "metadata": {
        "id": "kKJIheX57vMg"
      },
      "source": [
        "#### 30. How to find common values between two arrays? (★☆☆) \n",
        "(**hint**: np.intersect1d)"
      ]
    },
    {
      "cell_type": "code",
      "execution_count": null,
      "metadata": {
        "id": "JYi-0vaa7vMg",
        "colab": {
          "base_uri": "https://localhost:8080/"
        },
        "outputId": "93b4ed44-2e1c-4818-a189-2a744b2c8c7b"
      },
      "outputs": [
        {
          "output_type": "execute_result",
          "data": {
            "text/plain": [
              "array([ 5,  6,  7,  8,  9, 10, 11])"
            ]
          },
          "metadata": {},
          "execution_count": 33
        }
      ],
      "source": [
        "g=np.arange(1,12)\n",
        "h=np.arange(5,17)\n",
        "np.intersect1d(g,h)"
      ]
    },
    {
      "cell_type": "markdown",
      "metadata": {
        "id": "oK7navpq7vMh"
      },
      "source": [
        "#### 31. How to ignore all numpy warnings (not recommended)? (★☆☆) \n",
        "(**hint**: np.seterr, np.errstate)"
      ]
    },
    {
      "cell_type": "code",
      "execution_count": null,
      "metadata": {
        "id": "zJHfGiNK7vMh",
        "colab": {
          "base_uri": "https://localhost:8080/"
        },
        "outputId": "8900f08b-9213-4ba7-8dfe-024fc52b278d"
      },
      "outputs": [
        {
          "output_type": "execute_result",
          "data": {
            "text/plain": [
              "{'divide': 'warn', 'invalid': 'warn', 'over': 'warn', 'under': 'ignore'}"
            ]
          },
          "metadata": {},
          "execution_count": 34
        }
      ],
      "source": [
        "np.seterr(all=\"ignore\")"
      ]
    },
    {
      "cell_type": "markdown",
      "metadata": {
        "id": "HqTn9foa7vMh"
      },
      "source": [
        "#### 32. Is the following expressions true? (★☆☆) \n",
        "(**hint**: imaginary number)"
      ]
    },
    {
      "cell_type": "markdown",
      "metadata": {
        "id": "-_OGlU347vMh"
      },
      "source": [
        "```python\n",
        "np.sqrt(-1) == np.emath.sqrt(-1)\n",
        "```"
      ]
    },
    {
      "cell_type": "code",
      "execution_count": null,
      "metadata": {
        "id": "Dbz4qKkY7vMh",
        "colab": {
          "base_uri": "https://localhost:8080/"
        },
        "outputId": "4f077680-21b5-473c-de30-87261d0fbb28"
      },
      "outputs": [
        {
          "output_type": "execute_result",
          "data": {
            "text/plain": [
              "False"
            ]
          },
          "metadata": {},
          "execution_count": 35
        }
      ],
      "source": [
        "np.sqrt(-1) == np.emath.sqrt(-1)"
      ]
    },
    {
      "cell_type": "markdown",
      "metadata": {
        "id": "b5fUQmWw7vMi"
      },
      "source": [
        "#### 33. How to get the dates of yesterday, today and tomorrow? (★☆☆) \n",
        "(**hint**: np.datetime64, np.timedelta64)"
      ]
    },
    {
      "cell_type": "code",
      "execution_count": null,
      "metadata": {
        "id": "fCc6Tbkj7vMi",
        "colab": {
          "base_uri": "https://localhost:8080/"
        },
        "outputId": "b46587c2-ccea-4a36-8853-7a76b5aacf7b"
      },
      "outputs": [
        {
          "output_type": "stream",
          "name": "stdout",
          "text": [
            "Yesterday:  2022-07-27\n",
            "Today:  2022-07-28\n",
            "Tomorrow:  2022-07-29\n"
          ]
        }
      ],
      "source": [
        "yesterday = np.datetime64('today', 'D') - np.timedelta64(1, 'D')\n",
        "print(\"Yesterday: \",yesterday)\n",
        "today     = np.datetime64('today', 'D')\n",
        "print(\"Today: \",today)\n",
        "tomorrow  = np.datetime64('today', 'D') + np.timedelta64(1, 'D')\n",
        "print(\"Tomorrow: \",tomorrow)"
      ]
    },
    {
      "cell_type": "markdown",
      "metadata": {
        "id": "rzAbVRZv7vMi"
      },
      "source": [
        "#### 34. How to get all the dates corresponding to the month of July 2016? (★★☆) \n",
        "(**hint**: np.arange(dtype=datetime64\\['D'\\]))"
      ]
    },
    {
      "cell_type": "code",
      "execution_count": null,
      "metadata": {
        "id": "bpl609Yg7vMi",
        "colab": {
          "base_uri": "https://localhost:8080/"
        },
        "outputId": "2f19a538-535f-4223-e706-db8e05671cf1"
      },
      "outputs": [
        {
          "output_type": "stream",
          "name": "stdout",
          "text": [
            "July, 2016\n",
            "['2016-07-01' '2016-07-02' '2016-07-03' '2016-07-04' '2016-07-05'\n",
            " '2016-07-06' '2016-07-07' '2016-07-08' '2016-07-09' '2016-07-10'\n",
            " '2016-07-11' '2016-07-12' '2016-07-13' '2016-07-14' '2016-07-15'\n",
            " '2016-07-16' '2016-07-17' '2016-07-18' '2016-07-19' '2016-07-20'\n",
            " '2016-07-21' '2016-07-22' '2016-07-23' '2016-07-24' '2016-07-25'\n",
            " '2016-07-26' '2016-07-27' '2016-07-28' '2016-07-29' '2016-07-30'\n",
            " '2016-07-31']\n"
          ]
        }
      ],
      "source": [
        "print(\"July, 2016\")\n",
        "print(np.arange('2016-07', '2016-08', dtype='datetime64[D]'))"
      ]
    },
    {
      "cell_type": "markdown",
      "metadata": {
        "id": "9c_fSHZU7vMi"
      },
      "source": [
        "#### 35. How to compute ((A+B)\\*(-A/2)) in place (without copy)? (★★☆) \n",
        "(**hint**: np.add(out=), np.negative(out=), np.multiply(out=), np.divide(out=))"
      ]
    },
    {
      "cell_type": "code",
      "execution_count": null,
      "metadata": {
        "id": "BBjDMNa-7vMj",
        "colab": {
          "base_uri": "https://localhost:8080/"
        },
        "outputId": "2b482533-1885-42b6-b97a-b1845d284c3e"
      },
      "outputs": [
        {
          "output_type": "execute_result",
          "data": {
            "text/plain": [
              "array([-1.5, -1.5, -1.5])"
            ]
          },
          "metadata": {},
          "execution_count": 38
        }
      ],
      "source": [
        "A = np.ones(3)*1\n",
        "B = np.ones(3)*2\n",
        "C = np.ones(3)*3\n",
        "np.add(A,B,out=B)\n",
        "np.divide(A,2,out=A)\n",
        "np.negative(A,out=A)\n",
        "np.multiply(A,B,out=A)"
      ]
    },
    {
      "cell_type": "markdown",
      "metadata": {
        "id": "mZZl44Je7vMj"
      },
      "source": [
        "#### 36. Extract the integer part of a random array using 5 different methods (★★☆) \n",
        "(**hint**: %, np.floor, np.ceil, astype, np.trunc)"
      ]
    },
    {
      "cell_type": "code",
      "execution_count": null,
      "metadata": {
        "id": "BtsFREF_7vMj",
        "colab": {
          "base_uri": "https://localhost:8080/"
        },
        "outputId": "f6d9dad7-6099-4eaa-ac35-578c247412a6"
      },
      "outputs": [
        {
          "output_type": "stream",
          "name": "stdout",
          "text": [
            "[ 1.  2.  3.  4.  5.  6.  7.  8.  9. 10.]\n",
            "[ 0.  2.  2.  4.  4.  6.  6.  8.  8. 10.]\n",
            "[ 1.  2.  3.  4.  5.  6.  7.  8.  9. 10.]\n",
            "[ 1.  2.  3.  4.  5.  6.  7.  8.  9. 10.]\n",
            "[ 1.  2.  3.  4.  5.  6.  7.  8.  9. 10.]\n",
            "[ 1.+0.j  2.+0.j  3.+0.j  4.+0.j  5.+0.j  6.+0.j  7.+0.j  8.+0.j  9.+0.j\n",
            " 10.+0.j]\n"
          ]
        }
      ],
      "source": [
        "i=np.linspace(1,10,10)\n",
        "print(i)\n",
        "print(i-i%2)\n",
        "print(np.floor(i))\n",
        "print(np.ceil(i))\n",
        "print(np.trunc(i))\n",
        "print(i.astype(complex))"
      ]
    },
    {
      "cell_type": "markdown",
      "metadata": {
        "id": "dLDfuTQp7vMj"
      },
      "source": [
        "#### 37. Create a 5x5 matrix with row values ranging from 0 to 4 (★★☆) \n",
        "(**hint**: np.arange)"
      ]
    },
    {
      "cell_type": "code",
      "execution_count": null,
      "metadata": {
        "id": "L2TKdkNa7vMj",
        "colab": {
          "base_uri": "https://localhost:8080/"
        },
        "outputId": "f41dc43e-9a52-435d-cc22-e5f98d8e3a87"
      },
      "outputs": [
        {
          "output_type": "execute_result",
          "data": {
            "text/plain": [
              "array([[0., 1., 2., 3., 4.],\n",
              "       [0., 1., 2., 3., 4.],\n",
              "       [0., 1., 2., 3., 4.],\n",
              "       [0., 1., 2., 3., 4.],\n",
              "       [0., 1., 2., 3., 4.]])"
            ]
          },
          "metadata": {},
          "execution_count": 40
        }
      ],
      "source": [
        "A = np.zeros((5,5))\n",
        "A += np.arange(5)\n",
        "A"
      ]
    },
    {
      "cell_type": "markdown",
      "metadata": {
        "id": "32qcm9eW7vMj"
      },
      "source": [
        "#### 38. Consider a generator function that generates 10 integers and use it to build an array (★☆☆) \n",
        "(**hint**: np.fromiter)"
      ]
    },
    {
      "cell_type": "code",
      "execution_count": null,
      "metadata": {
        "id": "qZrVPXJY7vMk",
        "colab": {
          "base_uri": "https://localhost:8080/"
        },
        "outputId": "c28e83ce-e2c4-4c62-ac82-cbf2ad352b5f"
      },
      "outputs": [
        {
          "output_type": "execute_result",
          "data": {
            "text/plain": [
              "array([0, 1, 2, 3, 4, 5, 6, 7, 8, 9])"
            ]
          },
          "metadata": {},
          "execution_count": 41
        }
      ],
      "source": [
        "def generate():\n",
        "  for i in range(0,10):\n",
        "        yield i\n",
        "np.fromiter(generate(),dtype=int)"
      ]
    },
    {
      "cell_type": "markdown",
      "metadata": {
        "id": "5bUBSWtV7vMk"
      },
      "source": [
        "#### 39. Create a vector of size 10 with values ranging from 0 to 1, both excluded (★★☆) \n",
        "(**hint**: np.linspace)"
      ]
    },
    {
      "cell_type": "code",
      "execution_count": null,
      "metadata": {
        "id": "GyO-yccn7vMk",
        "colab": {
          "base_uri": "https://localhost:8080/"
        },
        "outputId": "65c93403-b634-4a18-d58d-be88dfc2a013"
      },
      "outputs": [
        {
          "output_type": "execute_result",
          "data": {
            "text/plain": [
              "array([0.09090909, 0.18181818, 0.27272727, 0.36363636, 0.45454545,\n",
              "       0.54545455, 0.63636364, 0.72727273, 0.81818182, 0.90909091])"
            ]
          },
          "metadata": {},
          "execution_count": 42
        }
      ],
      "source": [
        "np.linspace(0,1,11,endpoint=False)[1:]"
      ]
    },
    {
      "cell_type": "markdown",
      "metadata": {
        "id": "WHXKuO-n7vMk"
      },
      "source": [
        "#### 40. Create a random vector of size 10 and sort it (★★☆) \n",
        "(**hint**: sort)"
      ]
    },
    {
      "cell_type": "code",
      "execution_count": null,
      "metadata": {
        "id": "vZAPeAWt7vMk",
        "colab": {
          "base_uri": "https://localhost:8080/"
        },
        "outputId": "13c5b29a-bc38-4c49-9d1c-6c35d9db43a4"
      },
      "outputs": [
        {
          "output_type": "stream",
          "name": "stdout",
          "text": [
            "[0.02704185 0.05274603 0.17463472 0.20675739 0.29490085 0.38558317\n",
            " 0.44854609 0.52799124 0.76260427 0.77600986]\n"
          ]
        }
      ],
      "source": [
        "i=np.random.random(10)\n",
        "i.sort()\n",
        "print(i)"
      ]
    },
    {
      "cell_type": "markdown",
      "metadata": {
        "id": "EXSNSk_d7vMk"
      },
      "source": [
        "#### 41. How to sum a small array faster than np.sum? (★★☆) \n",
        "(**hint**: np.add.reduce)"
      ]
    },
    {
      "cell_type": "code",
      "execution_count": null,
      "metadata": {
        "id": "t0R6wEkg7vMl",
        "colab": {
          "base_uri": "https://localhost:8080/"
        },
        "outputId": "0f6bd1af-276f-4dcb-c6b0-f472ca588202"
      },
      "outputs": [
        {
          "output_type": "execute_result",
          "data": {
            "text/plain": [
              "45"
            ]
          },
          "metadata": {},
          "execution_count": 44
        }
      ],
      "source": [
        "a= np.arange(10)\n",
        "np.add.reduce(a)"
      ]
    },
    {
      "cell_type": "markdown",
      "metadata": {
        "id": "gwjsFKUT7vMl"
      },
      "source": [
        "#### 42. Consider two random array A and B, check if they are equal (★★☆) \n",
        "(**hint**: np.allclose, np.array\\_equal)"
      ]
    },
    {
      "cell_type": "code",
      "execution_count": null,
      "metadata": {
        "id": "-f9lLytD7vMl",
        "colab": {
          "base_uri": "https://localhost:8080/"
        },
        "outputId": "86a692c5-9824-4bef-9b51-e1998adebb91"
      },
      "outputs": [
        {
          "output_type": "stream",
          "name": "stdout",
          "text": [
            "False\n",
            "False\n"
          ]
        }
      ],
      "source": [
        "A = np.random.randint(0,2,5)\n",
        "B = np.random.randint(0,2,5)\n",
        "\n",
        "equal = np.allclose(A,B)\n",
        "print(equal)\n",
        "equal = np.array_equal(A,B)\n",
        "print(equal)"
      ]
    },
    {
      "cell_type": "markdown",
      "metadata": {
        "id": "0rpYEbWt7vMl"
      },
      "source": [
        "#### 43. Make an array immutable (read-only) (★★☆) \n",
        "(**hint**: flags.writeable)"
      ]
    },
    {
      "cell_type": "code",
      "execution_count": null,
      "metadata": {
        "id": "50Na34AW7vMl"
      },
      "outputs": [],
      "source": [
        "x= np.zeros(10)\n",
        "x.flags.writeable = False\n",
        "#x[0] = 1"
      ]
    },
    {
      "cell_type": "markdown",
      "metadata": {
        "id": "gBxjt6Yf7vMm"
      },
      "source": [
        "#### 44. Consider a random 10x2 matrix representing cartesian coordinates, convert them to polar coordinates (★★☆) \n",
        "(**hint**: np.sqrt, np.arctan2)"
      ]
    },
    {
      "cell_type": "code",
      "execution_count": null,
      "metadata": {
        "id": "MqhIhX1h7vMm",
        "colab": {
          "base_uri": "https://localhost:8080/"
        },
        "outputId": "8a1d9fef-5b73-47da-cafd-8c288c319394"
      },
      "outputs": [
        {
          "output_type": "stream",
          "name": "stdout",
          "text": [
            "[0.77357305 0.93183904 0.59595373 1.00413363 1.08994881 0.45819666\n",
            " 1.0087766  0.81829021 0.57071727 0.66724133]\n",
            "[0.28652598 1.04627369 1.15176322 0.63814062 0.95580334 1.08900547\n",
            " 0.53308939 0.94462416 0.32977063 1.30306628]\n"
          ]
        }
      ],
      "source": [
        "a=np.random.random((10,2))\n",
        "x,y=a[:,0],a[:,1]\n",
        "R=np.sqrt(x**2 + y**2)\n",
        "D=np.arctan2(y,x)\n",
        "print(R)\n",
        "print(D)"
      ]
    },
    {
      "cell_type": "markdown",
      "metadata": {
        "id": "3JwkWI0U7vMm"
      },
      "source": [
        "#### 45. Create random vector of size 10 and replace the maximum value by 0 (★★☆) \n",
        "(**hint**: argmax)"
      ]
    },
    {
      "cell_type": "code",
      "execution_count": null,
      "metadata": {
        "id": "01UkGAbB7vMm",
        "colab": {
          "base_uri": "https://localhost:8080/"
        },
        "outputId": "ebf27ef1-537a-4a65-ea0a-4f245d1dbf60"
      },
      "outputs": [
        {
          "output_type": "stream",
          "name": "stdout",
          "text": [
            "[0.68461197 0.74779775 0.25771045 0.32682668 0.75751349 0.00634107\n",
            " 0.60175339 0.24597351 0.         0.09414218]\n"
          ]
        }
      ],
      "source": [
        "a=np.random.random(10)\n",
        "a[a.argmax()] = 0\n",
        "print(a)"
      ]
    },
    {
      "cell_type": "markdown",
      "metadata": {
        "id": "q9iYz8EO7vMm"
      },
      "source": [
        "#### 46. Create a structured array with `x` and `y` coordinates covering the \\[0,1\\]x\\[0,1\\] area (★★☆) \n",
        "(**hint**: np.meshgrid)"
      ]
    },
    {
      "cell_type": "code",
      "execution_count": null,
      "metadata": {
        "id": "j_YAZO9t7vMm",
        "colab": {
          "base_uri": "https://localhost:8080/"
        },
        "outputId": "ffaf556c-60ef-46ce-9bd8-dab084c4c2bf"
      },
      "outputs": [
        {
          "output_type": "stream",
          "name": "stdout",
          "text": [
            "[[(0, 0) (0, 0) (0, 0) (0, 0) (1, 0)]\n",
            " [(0, 0) (0, 0) (0, 0) (0, 0) (1, 0)]\n",
            " [(0, 0) (0, 0) (0, 0) (0, 0) (1, 0)]\n",
            " [(0, 0) (0, 0) (0, 0) (0, 0) (1, 0)]\n",
            " [(0, 1) (0, 1) (0, 1) (0, 1) (1, 1)]]\n"
          ]
        }
      ],
      "source": [
        "A = np.ones((5,5), [('x',int),('y',int)])\n",
        "A['x'], A['y'] = np.meshgrid(np.linspace(0,1,5),np.linspace(0,1,5))\n",
        "print(A)"
      ]
    },
    {
      "cell_type": "markdown",
      "metadata": {
        "id": "10yKbDO_7vMn"
      },
      "source": [
        "####  47. Given two arrays, X and Y, construct the Cauchy matrix C (Cij =1/(xi - yj)) \n",
        "(**hint**: np.subtract.outer)"
      ]
    },
    {
      "cell_type": "code",
      "execution_count": null,
      "metadata": {
        "id": "U7V3ygRK7vMn",
        "colab": {
          "base_uri": "https://localhost:8080/"
        },
        "outputId": "56140f06-33e5-4d5e-fd97-653568fb7e71"
      },
      "outputs": [
        {
          "output_type": "stream",
          "name": "stdout",
          "text": [
            "[[1 2]\n",
            " [3 4]]\n",
            "[[5 6]\n",
            " [7 8]]\n"
          ]
        },
        {
          "output_type": "execute_result",
          "data": {
            "text/plain": [
              "array([[[[-0.25      , -0.2       ],\n",
              "         [-0.16666667, -0.14285714]],\n",
              "\n",
              "        [[-0.33333333, -0.25      ],\n",
              "         [-0.2       , -0.16666667]]],\n",
              "\n",
              "\n",
              "       [[[-0.5       , -0.33333333],\n",
              "         [-0.25      , -0.2       ]],\n",
              "\n",
              "        [[-1.        , -0.5       ],\n",
              "         [-0.33333333, -0.25      ]]]])"
            ]
          },
          "metadata": {},
          "execution_count": 50
        }
      ],
      "source": [
        "X = np.arange(1,5).reshape(2,2)\n",
        "Y = np.arange(5,9).reshape(2,2)\n",
        "print(X)\n",
        "print(Y)\n",
        "A = (1/(np.subtract.outer(X,Y)))\n",
        "A"
      ]
    },
    {
      "cell_type": "markdown",
      "metadata": {
        "id": "6Y-pMviz7vMn"
      },
      "source": [
        "#### 48. Print the minimum and maximum representable value for each numpy scalar type (★★☆) \n",
        "(**hint**: np.iinfo, np.finfo, eps)"
      ]
    },
    {
      "cell_type": "code",
      "execution_count": null,
      "metadata": {
        "id": "-TdQgWKf7vMn",
        "colab": {
          "base_uri": "https://localhost:8080/"
        },
        "outputId": "c5943d1c-8ca9-4383-e2a0-6463c9654330"
      },
      "outputs": [
        {
          "output_type": "stream",
          "name": "stdout",
          "text": [
            "-128\n",
            "127\n",
            "-2147483648\n",
            "2147483647\n",
            "-9223372036854775808\n",
            "9223372036854775807\n",
            "-3.4028235e+38\n",
            "3.4028235e+38\n",
            "1.1920929e-07\n",
            "-1.7976931348623157e+308\n",
            "1.7976931348623157e+308\n",
            "2.220446049250313e-16\n"
          ]
        }
      ],
      "source": [
        "for dtype in [np.int8, np.int32, np.int64]:\n",
        "   print(np.iinfo(dtype).min)\n",
        "   print(np.iinfo(dtype).max)\n",
        "for dtype in [np.float32, np.float64]:\n",
        "   print(np.finfo(dtype).min)\n",
        "   print(np.finfo(dtype).max)\n",
        "   print(np.finfo(dtype).eps)"
      ]
    },
    {
      "cell_type": "markdown",
      "metadata": {
        "id": "rZfQHk337vMn"
      },
      "source": [
        "#### 49. How to print all the values of an array? (★★☆) \n",
        "(**hint**: np.set\\_printoptions)"
      ]
    },
    {
      "cell_type": "code",
      "execution_count": null,
      "metadata": {
        "id": "zJvekHZT7vMn",
        "colab": {
          "base_uri": "https://localhost:8080/"
        },
        "outputId": "e0097094-34a6-4d63-8ffa-75acabbbf48f"
      },
      "outputs": [
        {
          "output_type": "stream",
          "name": "stdout",
          "text": [
            "[[0. 0. 0. 0. 0. 0. 0. 0. 0. 0. 0. 0. 0. 0. 0. 0. 0. 0. 0. 0.]\n",
            " [0. 0. 0. 0. 0. 0. 0. 0. 0. 0. 0. 0. 0. 0. 0. 0. 0. 0. 0. 0.]\n",
            " [0. 0. 0. 0. 0. 0. 0. 0. 0. 0. 0. 0. 0. 0. 0. 0. 0. 0. 0. 0.]\n",
            " [0. 0. 0. 0. 0. 0. 0. 0. 0. 0. 0. 0. 0. 0. 0. 0. 0. 0. 0. 0.]\n",
            " [0. 0. 0. 0. 0. 0. 0. 0. 0. 0. 0. 0. 0. 0. 0. 0. 0. 0. 0. 0.]\n",
            " [0. 0. 0. 0. 0. 0. 0. 0. 0. 0. 0. 0. 0. 0. 0. 0. 0. 0. 0. 0.]\n",
            " [0. 0. 0. 0. 0. 0. 0. 0. 0. 0. 0. 0. 0. 0. 0. 0. 0. 0. 0. 0.]\n",
            " [0. 0. 0. 0. 0. 0. 0. 0. 0. 0. 0. 0. 0. 0. 0. 0. 0. 0. 0. 0.]\n",
            " [0. 0. 0. 0. 0. 0. 0. 0. 0. 0. 0. 0. 0. 0. 0. 0. 0. 0. 0. 0.]\n",
            " [0. 0. 0. 0. 0. 0. 0. 0. 0. 0. 0. 0. 0. 0. 0. 0. 0. 0. 0. 0.]\n",
            " [0. 0. 0. 0. 0. 0. 0. 0. 0. 0. 0. 0. 0. 0. 0. 0. 0. 0. 0. 0.]\n",
            " [0. 0. 0. 0. 0. 0. 0. 0. 0. 0. 0. 0. 0. 0. 0. 0. 0. 0. 0. 0.]\n",
            " [0. 0. 0. 0. 0. 0. 0. 0. 0. 0. 0. 0. 0. 0. 0. 0. 0. 0. 0. 0.]\n",
            " [0. 0. 0. 0. 0. 0. 0. 0. 0. 0. 0. 0. 0. 0. 0. 0. 0. 0. 0. 0.]\n",
            " [0. 0. 0. 0. 0. 0. 0. 0. 0. 0. 0. 0. 0. 0. 0. 0. 0. 0. 0. 0.]\n",
            " [0. 0. 0. 0. 0. 0. 0. 0. 0. 0. 0. 0. 0. 0. 0. 0. 0. 0. 0. 0.]\n",
            " [0. 0. 0. 0. 0. 0. 0. 0. 0. 0. 0. 0. 0. 0. 0. 0. 0. 0. 0. 0.]\n",
            " [0. 0. 0. 0. 0. 0. 0. 0. 0. 0. 0. 0. 0. 0. 0. 0. 0. 0. 0. 0.]\n",
            " [0. 0. 0. 0. 0. 0. 0. 0. 0. 0. 0. 0. 0. 0. 0. 0. 0. 0. 0. 0.]\n",
            " [0. 0. 0. 0. 0. 0. 0. 0. 0. 0. 0. 0. 0. 0. 0. 0. 0. 0. 0. 0.]]\n"
          ]
        }
      ],
      "source": [
        "np.set_printoptions(threshold=float(\"inf\"))\n",
        "a=np.zeros((20,20))\n",
        "print(a)"
      ]
    },
    {
      "cell_type": "markdown",
      "metadata": {
        "id": "yECok4tc7vMo"
      },
      "source": [
        "#### 50. How to find the closest value (to a given scalar) in a vector? (★★☆) \n",
        "(**hint**: argmin)"
      ]
    },
    {
      "cell_type": "code",
      "execution_count": null,
      "metadata": {
        "id": "NBPFyr_d7vMo",
        "colab": {
          "base_uri": "https://localhost:8080/"
        },
        "outputId": "93f55f4a-c0dc-4525-ec3c-11236e8851c5"
      },
      "outputs": [
        {
          "output_type": "stream",
          "name": "stdout",
          "text": [
            "40\n"
          ]
        }
      ],
      "source": [
        "a=np.arange(100)\n",
        "b=np.random.uniform(0,100)\n",
        "index=(np.abs(a-b)).argmin()\n",
        "print(a[index])"
      ]
    },
    {
      "cell_type": "markdown",
      "metadata": {
        "id": "WxP2KQfR7vMo"
      },
      "source": [
        "#### 51. Create a structured array representing a position (x,y) and a color (r,g,b) (★★☆) \n",
        "(**hint**: dtype)"
      ]
    },
    {
      "cell_type": "code",
      "execution_count": null,
      "metadata": {
        "id": "r4p5liSu7vMo",
        "colab": {
          "base_uri": "https://localhost:8080/"
        },
        "outputId": "c2353cbc-7785-4dda-90b0-74f9e6aabcb7"
      },
      "outputs": [
        {
          "output_type": "stream",
          "name": "stdout",
          "text": [
            "[((0., 0.), (0., 0., 0.)) ((0., 0.), (0., 0., 0.))\n",
            " ((0., 0.), (0., 0., 0.)) ((0., 0.), (0., 0., 0.))\n",
            " ((0., 0.), (0., 0., 0.)) ((0., 0.), (0., 0., 0.))\n",
            " ((0., 0.), (0., 0., 0.)) ((0., 0.), (0., 0., 0.))\n",
            " ((0., 0.), (0., 0., 0.)) ((0., 0.), (0., 0., 0.))]\n"
          ]
        }
      ],
      "source": [
        "x= np.zeros(10, [ ('position', [ ('x', float),\n",
        "                                  ('y', float)]),\n",
        "                   ('color',    [ ('r', float),\n",
        "                                  ('g', float),\n",
        "                                  ('b', float)])])\n",
        "print(x)"
      ]
    },
    {
      "cell_type": "markdown",
      "metadata": {
        "id": "3feUlXyb7vMo"
      },
      "source": [
        "#### 52. Consider a random vector with shape (100,2) representing coordinates, find point by point distances (★★☆) \n",
        "(**hint**: np.atleast\\_2d, T, np.sqrt)"
      ]
    },
    {
      "cell_type": "code",
      "execution_count": null,
      "metadata": {
        "id": "hbobBEhK7vMs",
        "colab": {
          "base_uri": "https://localhost:8080/"
        },
        "outputId": "fdd408df-2ba2-4c8d-fdb7-4f636fb736e0"
      },
      "outputs": [
        {
          "output_type": "execute_result",
          "data": {
            "text/plain": [
              "array([[0.        , 0.21997655, 0.19619592, 0.03473495, 0.67769529,\n",
              "        0.29634713, 0.36803737, 0.43653885, 0.55873882, 0.20051864],\n",
              "       [0.21997655, 0.        , 0.1131779 , 0.18918861, 0.46902131,\n",
              "        0.07960419, 0.44586196, 0.31233961, 0.59235952, 0.09882735],\n",
              "       [0.19619592, 0.1131779 , 0.        , 0.17926568, 0.4916399 ,\n",
              "        0.17932311, 0.3340111 , 0.42467111, 0.48041144, 0.1910453 ],\n",
              "       [0.03473495, 0.18918861, 0.17926568, 0.        , 0.65172984,\n",
              "        0.26406001, 0.38692756, 0.40348458, 0.57328321, 0.16579398],\n",
              "       [0.67769529, 0.46902131, 0.4916399 , 0.65172984, 0.        ,\n",
              "        0.41268648, 0.71320873, 0.57855037, 0.73745784, 0.54516666],\n",
              "       [0.29634713, 0.07960419, 0.17932311, 0.26406001, 0.41268648,\n",
              "        0.        , 0.51227356, 0.27064422, 0.64504759, 0.1324892 ],\n",
              "       [0.36803737, 0.44586196, 0.3340111 , 0.38692756, 0.71320873,\n",
              "        0.51227356, 0.        , 0.75125304, 0.19984821, 0.50379719],\n",
              "       [0.43653885, 0.31233961, 0.42467111, 0.40348458, 0.57855037,\n",
              "        0.27064422, 0.75125304, 0.        , 0.90468886, 0.24983109],\n",
              "       [0.55873882, 0.59235952, 0.48041144, 0.57328321, 0.73745784,\n",
              "        0.64504759, 0.19984821, 0.90468886, 0.        , 0.66709427],\n",
              "       [0.20051864, 0.09882735, 0.1910453 , 0.16579398, 0.54516666,\n",
              "        0.1324892 , 0.50379719, 0.24983109, 0.66709427, 0.        ]])"
            ]
          },
          "metadata": {},
          "execution_count": 55
        }
      ],
      "source": [
        "Z = np.random.random((10,2))\n",
        "X,Y = np.atleast_2d(Z[:,0], Z[:,1])\n",
        "D = np.sqrt( (X-X.T)**2 + (Y-Y.T)**2)\n",
        "D"
      ]
    },
    {
      "cell_type": "markdown",
      "metadata": {
        "id": "XtUns5mn7vMt"
      },
      "source": [
        "#### 53. How to convert a float (32 bits) array into an integer (32 bits) in place? \n",
        "(**hint**: astype(copy=False))"
      ]
    },
    {
      "cell_type": "code",
      "execution_count": null,
      "metadata": {
        "id": "qQM6cBtu7vMt",
        "colab": {
          "base_uri": "https://localhost:8080/"
        },
        "outputId": "d660ce7f-5fc7-4e61-c93d-85079503ebb6"
      },
      "outputs": [
        {
          "output_type": "stream",
          "name": "stdout",
          "text": [
            "[0. 1. 2. 3. 4. 5. 6. 7. 8. 9.]\n",
            "[0 1 2 3 4 5 6 7 8 9]\n"
          ]
        }
      ],
      "source": [
        "a=np.arange(10, dtype=np.float32)\n",
        "b=a.astype(np.int32,copy=False)\n",
        "print(a)\n",
        "print(b)"
      ]
    },
    {
      "cell_type": "markdown",
      "metadata": {
        "id": "ypElOjV17vMt"
      },
      "source": [
        "#### 54. How to read the following file? (★★☆) \n",
        "(**hint**: np.genfromtxt)"
      ]
    },
    {
      "cell_type": "markdown",
      "metadata": {
        "id": "d7dRovy07vMt"
      },
      "source": [
        "```\n",
        "1, 2, 3, 4, 5\n",
        "6,  ,  , 7, 8\n",
        " ,  , 9,10,11\n",
        "```"
      ]
    },
    {
      "cell_type": "code",
      "execution_count": null,
      "metadata": {
        "id": "KnJHuRAo7vMt",
        "colab": {
          "base_uri": "https://localhost:8080/"
        },
        "outputId": "13045508-60f1-4316-d0e0-be1a71731a1e"
      },
      "outputs": [
        {
          "output_type": "stream",
          "name": "stdout",
          "text": [
            "[[ 1  2  3  4  5]\n",
            " [ 6 -1 -1  7  8]\n",
            " [-1 -1  9 10 11]]\n"
          ]
        }
      ],
      "source": [
        "from io import StringIO\n",
        "\n",
        "s = StringIO(\"\"\"1, 2, 3, 4, 5\n",
        "                6,  ,  , 7, 8\n",
        "                 ,  , 9,10,11\"\"\")\n",
        "Z = np.genfromtxt(s, delimiter=\",\", dtype=int)\n",
        "print(Z)"
      ]
    },
    {
      "cell_type": "markdown",
      "metadata": {
        "id": "6mTwk2e57vMu"
      },
      "source": [
        "#### 55. What is the equivalent of enumerate for numpy arrays? (★★☆) \n",
        "(**hint**: np.ndenumerate, np.ndindex)"
      ]
    },
    {
      "cell_type": "code",
      "execution_count": null,
      "metadata": {
        "id": "rbOI6bQy7vMu",
        "colab": {
          "base_uri": "https://localhost:8080/"
        },
        "outputId": "268ed1a2-6903-4a8e-a32a-512dab7feae8"
      },
      "outputs": [
        {
          "output_type": "stream",
          "name": "stdout",
          "text": [
            "(0, 0) 0\n",
            "(0, 1) 1\n",
            "(0, 2) 2\n",
            "(1, 0) 3\n",
            "(1, 1) 4\n",
            "(1, 2) 5\n",
            "(2, 0) 6\n",
            "(2, 1) 7\n",
            "(2, 2) 8\n",
            "(0, 0) 0\n",
            "(0, 1) 1\n",
            "(0, 2) 2\n",
            "(1, 0) 3\n",
            "(1, 1) 4\n",
            "(1, 2) 5\n",
            "(2, 0) 6\n",
            "(2, 1) 7\n",
            "(2, 2) 8\n"
          ]
        }
      ],
      "source": [
        "a = np.arange(9).reshape(3,3)\n",
        "for index, value in np.ndenumerate(a):\n",
        "    print(index, value)\n",
        "for index in np.ndindex(a.shape):\n",
        "    print(index, a[index])"
      ]
    },
    {
      "cell_type": "markdown",
      "metadata": {
        "id": "A8Yjx1_B7vMu"
      },
      "source": [
        "#### 56. Generate a generic 2D Gaussian-like array (★★☆) \n",
        "(**hint**: np.meshgrid, np.exp)"
      ]
    },
    {
      "cell_type": "code",
      "execution_count": null,
      "metadata": {
        "id": "L3j_qEg67vMu",
        "colab": {
          "base_uri": "https://localhost:8080/"
        },
        "outputId": "6d3bd022-4967-4546-c358-313dda0cd1a4"
      },
      "outputs": [
        {
          "output_type": "stream",
          "name": "stdout",
          "text": [
            "[[0.36787944 0.44822088 0.51979489 0.57375342 0.60279818 0.60279818\n",
            "  0.57375342 0.51979489 0.44822088 0.36787944]\n",
            " [0.44822088 0.54610814 0.63331324 0.69905581 0.73444367 0.73444367\n",
            "  0.69905581 0.63331324 0.54610814 0.44822088]\n",
            " [0.51979489 0.63331324 0.73444367 0.81068432 0.85172308 0.85172308\n",
            "  0.81068432 0.73444367 0.63331324 0.51979489]\n",
            " [0.57375342 0.69905581 0.81068432 0.89483932 0.9401382  0.9401382\n",
            "  0.89483932 0.81068432 0.69905581 0.57375342]\n",
            " [0.60279818 0.73444367 0.85172308 0.9401382  0.98773022 0.98773022\n",
            "  0.9401382  0.85172308 0.73444367 0.60279818]\n",
            " [0.60279818 0.73444367 0.85172308 0.9401382  0.98773022 0.98773022\n",
            "  0.9401382  0.85172308 0.73444367 0.60279818]\n",
            " [0.57375342 0.69905581 0.81068432 0.89483932 0.9401382  0.9401382\n",
            "  0.89483932 0.81068432 0.69905581 0.57375342]\n",
            " [0.51979489 0.63331324 0.73444367 0.81068432 0.85172308 0.85172308\n",
            "  0.81068432 0.73444367 0.63331324 0.51979489]\n",
            " [0.44822088 0.54610814 0.63331324 0.69905581 0.73444367 0.73444367\n",
            "  0.69905581 0.63331324 0.54610814 0.44822088]\n",
            " [0.36787944 0.44822088 0.51979489 0.57375342 0.60279818 0.60279818\n",
            "  0.57375342 0.51979489 0.44822088 0.36787944]]\n"
          ]
        }
      ],
      "source": [
        "x,y=np.meshgrid(np.linspace(-1,1,10),np.linspace(-1,1,10))\n",
        "d = np.sqrt(x*x+y*y)\n",
        "sigma, mu = 1.0, 0.0\n",
        "g = np.exp(-( (d-mu)**2 / ( 2.0 * sigma**2 ) ) )\n",
        "print(g)"
      ]
    },
    {
      "cell_type": "markdown",
      "metadata": {
        "id": "_NGqvJx57vMu"
      },
      "source": [
        "#### 57. How to randomly place p elements in a 2D array? (★★☆) \n",
        "(**hint**: np.put, np.random.choice)"
      ]
    },
    {
      "cell_type": "code",
      "execution_count": null,
      "metadata": {
        "id": "ByfJfWAm7vMu",
        "colab": {
          "base_uri": "https://localhost:8080/"
        },
        "outputId": "32734bb8-7f82-485e-c847-05096a36a353"
      },
      "outputs": [
        {
          "output_type": "stream",
          "name": "stdout",
          "text": [
            "[[0. 0. 1. 0. 1.]\n",
            " [0. 0. 0. 0. 0.]\n",
            " [0. 0. 0. 1. 0.]\n",
            " [0. 0. 0. 1. 0.]\n",
            " [0. 0. 0. 0. 1.]]\n"
          ]
        }
      ],
      "source": [
        "n=5\n",
        "p=5\n",
        "z=np.zeros((n,n))\n",
        "np.put(z,np.random.choice(arange(n*n), p, replace=False),1)\n",
        "print(z)"
      ]
    },
    {
      "cell_type": "markdown",
      "metadata": {
        "id": "52UFx6UA7vMu"
      },
      "source": [
        "#### 58. Subtract the mean of each row of a matrix (★★☆) \n",
        "(**hint**: mean(axis=,keepdims=))"
      ]
    },
    {
      "cell_type": "code",
      "execution_count": 67,
      "metadata": {
        "id": "QLXzpIGC7vMv",
        "colab": {
          "base_uri": "https://localhost:8080/"
        },
        "outputId": "3d9d5c0e-4b69-4bcc-c930-d0ab4a30ac52"
      },
      "outputs": [
        {
          "output_type": "stream",
          "name": "stdout",
          "text": [
            "[[ 0.03159449 -0.01893725 -0.19865363 -0.07084342  0.25683981]\n",
            " [ 0.09695348  0.26283051 -0.38071819  0.17561521 -0.15468101]\n",
            " [ 0.19376475 -0.20371558  0.16332761 -0.0908068  -0.06256998]\n",
            " [-0.0888943  -0.03553804 -0.35575126  0.17504549  0.30513811]\n",
            " [ 0.44026284  0.22690832 -0.1492186  -0.28060225 -0.23735031]]\n"
          ]
        }
      ],
      "source": [
        "x=np.random.rand(5, 5)\n",
        "y=x-x.mean(axis = 1,keepdims = True)\n",
        "print(y)\n",
        "y=x.mean(axis = 1).reshape(-1,1)"
      ]
    },
    {
      "cell_type": "markdown",
      "metadata": {
        "id": "Mg5kFAKz7vMv"
      },
      "source": [
        "#### 59. How to sort an array by the nth column? (★★☆) \n",
        "(**hint**: argsort)"
      ]
    },
    {
      "cell_type": "code",
      "execution_count": 68,
      "metadata": {
        "id": "-Oyi-c1s7vMv",
        "colab": {
          "base_uri": "https://localhost:8080/"
        },
        "outputId": "7cc877ba-8dcb-4ac5-ec83-cf3753358572"
      },
      "outputs": [
        {
          "output_type": "stream",
          "name": "stdout",
          "text": [
            "[[2 2 2]\n",
            " [7 7 8]\n",
            " [7 3 8]]\n",
            "[[2 2 2]\n",
            " [7 3 8]\n",
            " [7 7 8]]\n"
          ]
        }
      ],
      "source": [
        "z=np.random.randint(0,10,(3,3))\n",
        "print(z)\n",
        "print(z[z[:,1].argsort()])"
      ]
    },
    {
      "cell_type": "markdown",
      "metadata": {
        "id": "-ste8Q7s7vMv"
      },
      "source": [
        "#### 60. How to tell if a given 2D array has null columns? (★★☆) \n",
        "(**hint**: any, ~)"
      ]
    },
    {
      "cell_type": "code",
      "execution_count": 69,
      "metadata": {
        "id": "E1IM_eMz7vMw",
        "colab": {
          "base_uri": "https://localhost:8080/"
        },
        "outputId": "6330cb00-996d-402c-f278-20aadd6a76c2"
      },
      "outputs": [
        {
          "output_type": "stream",
          "name": "stdout",
          "text": [
            "False\n"
          ]
        }
      ],
      "source": [
        "z=np.random.randint(0,3,(3,10))\n",
        "print((~z.any(axis=0)).any())"
      ]
    },
    {
      "cell_type": "markdown",
      "metadata": {
        "id": "6NrZEqfc7vMw"
      },
      "source": [
        "#### 61. Find the nearest value from a given value in an array (★★☆) \n",
        "(**hint**: np.abs, argmin, flat)"
      ]
    },
    {
      "cell_type": "code",
      "execution_count": 70,
      "metadata": {
        "id": "e8lrAq7r7vMw",
        "colab": {
          "base_uri": "https://localhost:8080/"
        },
        "outputId": "cccccece-571d-4109-9604-e3828d29df5a"
      },
      "outputs": [
        {
          "output_type": "stream",
          "name": "stdout",
          "text": [
            "0.5458355690779755\n"
          ]
        }
      ],
      "source": [
        "Z = np.random.uniform(0,1,10)\n",
        "z = 0.5\n",
        "nv = Z.flat[np.abs(Z - z).argmin()]\n",
        "print(nv)"
      ]
    },
    {
      "cell_type": "markdown",
      "metadata": {
        "id": "2zMOeek97vMw"
      },
      "source": [
        "#### 62. Considering two arrays with shape (1,3) and (3,1), how to compute their sum using an iterator? (★★☆) \n",
        "(**hint**: np.nditer)"
      ]
    },
    {
      "cell_type": "code",
      "execution_count": 2,
      "metadata": {
        "id": "qyFVQIop7vMw",
        "colab": {
          "base_uri": "https://localhost:8080/"
        },
        "outputId": "65184049-44eb-48a2-d9f6-3ed3b87c155e"
      },
      "outputs": [
        {
          "output_type": "stream",
          "name": "stdout",
          "text": [
            "[[0 1 2]\n",
            " [1 2 3]\n",
            " [2 3 4]]\n"
          ]
        }
      ],
      "source": [
        "A=np.arange(3).reshape(3,1)\n",
        "B=np.arange(3).reshape(1,3)\n",
        "it=np.nditer([A,B,None])\n",
        "for x,y,z in it:\n",
        "  z[...]=x+y\n",
        "print(it.operands[2])"
      ]
    },
    {
      "cell_type": "markdown",
      "metadata": {
        "id": "ahBvbgH_7vMw"
      },
      "source": [
        "#### 63. Create an array class that has a name attribute (★★☆) \n",
        "(**hint**: class method)"
      ]
    },
    {
      "cell_type": "code",
      "execution_count": 79,
      "metadata": {
        "id": "BZk8ihhI7vMw",
        "colab": {
          "base_uri": "https://localhost:8080/"
        },
        "outputId": "36ed0b12-b9fe-40c7-9bf3-29c615e3ca54"
      },
      "outputs": [
        {
          "output_type": "stream",
          "name": "stdout",
          "text": [
            "range_is_5\n"
          ]
        }
      ],
      "source": [
        "class Array(np.ndarray):\n",
        "    def __new__(cls, array, name=\"no name\"):\n",
        "        obj = np.asarray(array).view(cls)\n",
        "        obj.name = name\n",
        "        return obj\n",
        "    def __array_finalize__(self, obj):\n",
        "        if obj is None: return\n",
        "        self.info = getattr(obj, 'name', \"no name\")\n",
        "Z= Array(np.arange(5), \"range_is_5\")\n",
        "print(Z.name)"
      ]
    },
    {
      "cell_type": "markdown",
      "metadata": {
        "id": "jkMwmYRc7vMx"
      },
      "source": [
        "#### 64. Consider a given vector, how to add 1 to each element indexed by a second vector (be careful with repeated indices)? (★★★) \n",
        "(**hint**: np.bincount | np.add.at)"
      ]
    },
    {
      "cell_type": "code",
      "execution_count": 80,
      "metadata": {
        "id": "-4ZYHkDe7vMx",
        "colab": {
          "base_uri": "https://localhost:8080/"
        },
        "outputId": "9154d4a1-c906-4be1-bd24-ccf6428825df"
      },
      "outputs": [
        {
          "output_type": "stream",
          "name": "stdout",
          "text": [
            "[1. 4. 5. 4. 3. 1. 2. 2. 4. 4.]\n",
            "[1. 7. 9. 7. 5. 1. 3. 3. 7. 7.]\n"
          ]
        }
      ],
      "source": [
        "x= np.ones(10)\n",
        "y= np.random.randint(0,len(x),20)\n",
        "x+= np.bincount(y, minlength=len(x))\n",
        "print(x)\n",
        "\n",
        "np.add.at(x, y, 1)\n",
        "print(x)"
      ]
    },
    {
      "cell_type": "markdown",
      "metadata": {
        "id": "KcQV0P8K7vMx"
      },
      "source": [
        "#### 65. How to accumulate elements of a vector (X) to an array (F) based on an index list (I)? (★★★) \n",
        "(**hint**: np.bincount)"
      ]
    },
    {
      "cell_type": "code",
      "execution_count": 3,
      "metadata": {
        "id": "95THNfBM7vMx",
        "colab": {
          "base_uri": "https://localhost:8080/"
        },
        "outputId": "c451ace8-e249-465f-9010-b5cc8b3b5ba1"
      },
      "outputs": [
        {
          "output_type": "execute_result",
          "data": {
            "text/plain": [
              "array([ 0.,  0.,  0.,  2.,  0.,  0.,  4.,  0.,  0.,  6.,  0.,  0.,  8.,\n",
              "        0.,  0.,  9.,  0.,  0., 10.])"
            ]
          },
          "metadata": {},
          "execution_count": 3
        }
      ],
      "source": [
        "a=[3,6,9,12,15,18]\n",
        "b=[2,4,6,8,9,10]\n",
        "np.bincount(a,b)"
      ]
    },
    {
      "cell_type": "markdown",
      "metadata": {
        "id": "ZOrqepyN7vMx"
      },
      "source": [
        "#### 66. Considering a (w,h,3) image of (dtype=ubyte), compute the number of unique colors (★★★) \n",
        "(**hint**: np.unique)"
      ]
    },
    {
      "cell_type": "code",
      "execution_count": 7,
      "metadata": {
        "id": "rzeDovIy7vMx",
        "colab": {
          "base_uri": "https://localhost:8080/"
        },
        "outputId": "7a575054-d774-4484-9353-5549480ccf08"
      },
      "outputs": [
        {
          "output_type": "stream",
          "name": "stdout",
          "text": [
            "8\n"
          ]
        }
      ],
      "source": [
        "w,h=16,16\n",
        "I=np.random.randint(0,2,(h,w,3)).astype(np.ubyte)\n",
        "F=I[...,0]*(256*256)+I[...,1]*256+I[...,2]\n",
        "N=len(np.unique(F))\n",
        "print(N)"
      ]
    },
    {
      "cell_type": "markdown",
      "metadata": {
        "id": "xQRSaR-E7vMy"
      },
      "source": [
        "#### 67. Considering a four dimensions array, how to get sum over the last two axis at once? (★★★) \n",
        "(**hint**: sum(axis=(-2,-1)))"
      ]
    },
    {
      "cell_type": "code",
      "execution_count": 8,
      "metadata": {
        "id": "6JhXiZHA7vMy",
        "colab": {
          "base_uri": "https://localhost:8080/"
        },
        "outputId": "afb7c2bf-dacb-4915-be43-3a4354743df1"
      },
      "outputs": [
        {
          "output_type": "stream",
          "name": "stdout",
          "text": [
            "[[40 54 62 43]\n",
            " [42 46 50 78]\n",
            " [68 48 59 46]]\n",
            "[[40 54 62 43]\n",
            " [42 46 50 78]\n",
            " [68 48 59 46]]\n"
          ]
        }
      ],
      "source": [
        "a = np.random.randint(0,10,(3,4,3,4))\n",
        "sum = a.sum(axis=(-2,-1))\n",
        "print(sum)\n",
        "sum = a.reshape(a.shape[:-2] + (-1,)).sum(axis=-1)\n",
        "print(sum)"
      ]
    },
    {
      "cell_type": "markdown",
      "metadata": {
        "id": "xjR2VDD97vMy"
      },
      "source": [
        "#### 68. Considering a one-dimensional vector D, how to compute means of subsets of D using a vector S of same size describing subset  indices? (★★★) \n",
        "(**hint**: np.bincount)"
      ]
    },
    {
      "cell_type": "code",
      "execution_count": 9,
      "metadata": {
        "id": "GK2rfcC77vMy",
        "colab": {
          "base_uri": "https://localhost:8080/"
        },
        "outputId": "2ddb9eab-8d8a-4ce7-d4a5-d5fc7c724bd2"
      },
      "outputs": [
        {
          "output_type": "stream",
          "name": "stdout",
          "text": [
            "[0.52839331 0.4553279  0.51265497 0.5015736  0.47020262 0.57196386\n",
            " 0.64602961 0.43077999 0.45194064 0.54359512]\n",
            "0    0.528393\n",
            "1    0.455328\n",
            "2    0.512655\n",
            "3    0.501574\n",
            "4    0.470203\n",
            "5    0.571964\n",
            "6    0.646030\n",
            "7    0.430780\n",
            "8    0.451941\n",
            "9    0.543595\n",
            "dtype: float64\n"
          ]
        }
      ],
      "source": [
        "D = np.random.uniform(0,1,100)\n",
        "S = np.random.randint(0,10,100)\n",
        "D_sums = np.bincount(S, weights=D)\n",
        "D_counts = np.bincount(S)\n",
        "D_means = D_sums / D_counts\n",
        "print(D_means)\n",
        "import pandas as pd\n",
        "print(pd.Series(D).groupby(S).mean())"
      ]
    },
    {
      "cell_type": "markdown",
      "metadata": {
        "id": "L6eBE0Xd7vMy"
      },
      "source": [
        "#### 69. How to get the diagonal of a dot product? (★★★) \n",
        "(**hint**: np.diag)"
      ]
    },
    {
      "cell_type": "code",
      "execution_count": 12,
      "metadata": {
        "id": "z7jEWZoi7vMz",
        "colab": {
          "base_uri": "https://localhost:8080/"
        },
        "outputId": "c0340e4e-a968-48e2-c637-46b6fcd9cf72"
      },
      "outputs": [
        {
          "output_type": "execute_result",
          "data": {
            "text/plain": [
              "array([0.60530457, 0.50126978])"
            ]
          },
          "metadata": {},
          "execution_count": 12
        }
      ],
      "source": [
        "A = np.random.uniform(0,1,(2,2))\n",
        "B = np.random.uniform(0,1,(2,2))\n",
        "np.diag(np.dot(A, B))"
      ]
    },
    {
      "cell_type": "markdown",
      "metadata": {
        "id": "mt_Uil6o7vMz"
      },
      "source": [
        "#### 70. Consider the vector \\[1, 2, 3, 4, 5\\], how to build a new vector with 3 consecutive zeros interleaved between each value? (★★★) \n",
        "(**hint**: array\\[::4\\])"
      ]
    },
    {
      "cell_type": "code",
      "execution_count": 13,
      "metadata": {
        "id": "f7MJH6cK7vMz",
        "colab": {
          "base_uri": "https://localhost:8080/"
        },
        "outputId": "9a194af0-dd1d-4de0-9c1a-7566f2b22621"
      },
      "outputs": [
        {
          "output_type": "execute_result",
          "data": {
            "text/plain": [
              "array([1., 0., 0., 0., 2., 0., 0., 0., 3., 0., 0., 0., 4., 0., 0., 0., 5.])"
            ]
          },
          "metadata": {},
          "execution_count": 13
        }
      ],
      "source": [
        "V=np.array([1,2,3,4,5])\n",
        "Zn=3\n",
        "X=np.zeros(len(V)+(len(V)-1)*Zn)\n",
        "X[::Zn+1]=V\n",
        "X"
      ]
    },
    {
      "cell_type": "markdown",
      "metadata": {
        "id": "y52rjbPn7vMz"
      },
      "source": [
        "#### 71. Consider an array of dimension (5,5,3), how to mulitply it by an array with dimensions (5,5)? (★★★) \n",
        "(**hint**: array\\[:, :, None\\])"
      ]
    },
    {
      "cell_type": "code",
      "execution_count": 14,
      "metadata": {
        "collapsed": true,
        "id": "BbkDmUEH7vMz",
        "colab": {
          "base_uri": "https://localhost:8080/"
        },
        "outputId": "4cd17ae2-24e1-434f-d6e3-e60b35a149d6"
      },
      "outputs": [
        {
          "output_type": "stream",
          "name": "stdout",
          "text": [
            "[[[4. 4. 4.]\n",
            "  [4. 4. 4.]\n",
            "  [4. 4. 4.]\n",
            "  [4. 4. 4.]\n",
            "  [4. 4. 4.]]\n",
            "\n",
            " [[4. 4. 4.]\n",
            "  [4. 4. 4.]\n",
            "  [4. 4. 4.]\n",
            "  [4. 4. 4.]\n",
            "  [4. 4. 4.]]\n",
            "\n",
            " [[4. 4. 4.]\n",
            "  [4. 4. 4.]\n",
            "  [4. 4. 4.]\n",
            "  [4. 4. 4.]\n",
            "  [4. 4. 4.]]\n",
            "\n",
            " [[4. 4. 4.]\n",
            "  [4. 4. 4.]\n",
            "  [4. 4. 4.]\n",
            "  [4. 4. 4.]\n",
            "  [4. 4. 4.]]\n",
            "\n",
            " [[4. 4. 4.]\n",
            "  [4. 4. 4.]\n",
            "  [4. 4. 4.]\n",
            "  [4. 4. 4.]\n",
            "  [4. 4. 4.]]]\n"
          ]
        }
      ],
      "source": [
        "A=2*np.ones((5,5,3))\n",
        "B=2*np.ones((5,5))\n",
        "print(A*B[:,:,None])"
      ]
    },
    {
      "cell_type": "markdown",
      "metadata": {
        "id": "pqwkdoD27vM0"
      },
      "source": [
        "#### 72. How to swap two rows of an array? (★★★) \n",
        "(**hint**: array\\[\\[\\]\\] = array\\[\\[\\]\\])"
      ]
    },
    {
      "cell_type": "code",
      "execution_count": 16,
      "metadata": {
        "id": "VzTSTcLf7vM0",
        "colab": {
          "base_uri": "https://localhost:8080/"
        },
        "outputId": "2b41b669-81aa-4708-e00b-76baf84bf114"
      },
      "outputs": [
        {
          "output_type": "stream",
          "name": "stdout",
          "text": [
            "[[ 0  1  2  3]\n",
            " [ 4  5  6  7]\n",
            " [ 8  9 10 11]\n",
            " [12 13 14 15]]\n",
            "[[ 4  5  6  7]\n",
            " [ 0  1  2  3]\n",
            " [ 8  9 10 11]\n",
            " [12 13 14 15]]\n"
          ]
        }
      ],
      "source": [
        "A=np.arange(16).reshape(4,4)\n",
        "print(A)\n",
        "A[[0,1]]=A[[1,0]]\n",
        "print(A)"
      ]
    },
    {
      "cell_type": "markdown",
      "metadata": {
        "id": "arkiZ61W7vM0"
      },
      "source": [
        "#### 73. Consider a set of 10 triplets describing 10 triangles (with shared vertices), find the set of unique line segments composing all the  triangles (★★★) \n",
        "(**hint**: repeat, np.roll, np.sort, view, np.unique)"
      ]
    },
    {
      "cell_type": "code",
      "execution_count": 2,
      "metadata": {
        "id": "9TiEhfn57vM0",
        "colab": {
          "base_uri": "https://localhost:8080/"
        },
        "outputId": "e5220e88-bfad-4e58-f384-994ecc6f96ca"
      },
      "outputs": [
        {
          "output_type": "stream",
          "name": "stdout",
          "text": [
            "[( 0, 24) ( 1, 67) ( 4, 86) ( 6, 53) ( 8, 84) (14,  6) (14,  8) (23, 76)\n",
            " (24, 87) (27, 31) (31, 63) (34,  1) (37,  4) (50, 53) (50, 73) (53, 14)\n",
            " (53, 54) (54, 50) (59, 85) (63, 23) (63, 27) (64, 59) (67, 34) (73, 91)\n",
            " (76, 63) (84, 14) (85, 64) (86, 37) (87,  0) (91, 50)]\n"
          ]
        }
      ],
      "source": [
        "faces=np.random.randint(0,100,(10,3))\n",
        "f=np.roll(faces.repeat(2,axis=1),-1,axis=1)\n",
        "f=f.reshape(len(f)*3,2)\n",
        "F=np.sort(f,axis=1)\n",
        "g=f.view(dtype=[('p0',f.dtype),('p1',f.dtype)] )\n",
        "g=np.unique(g)\n",
        "print(g)"
      ]
    },
    {
      "cell_type": "markdown",
      "metadata": {
        "id": "zx_uRRl27vM1"
      },
      "source": [
        "#### 74. Given an array C that is a bincount, how to produce an array A such that np.bincount(A) == C? (★★★) \n",
        "(**hint**: np.repeat)"
      ]
    },
    {
      "cell_type": "code",
      "execution_count": 4,
      "metadata": {
        "id": "EKqzVY617vM1",
        "colab": {
          "base_uri": "https://localhost:8080/"
        },
        "outputId": "a1753842-d9f7-4562-8538-dd07838c6e04"
      },
      "outputs": [
        {
          "output_type": "stream",
          "name": "stdout",
          "text": [
            "[ 1  2  3  3  4  4  5  7 11]\n"
          ]
        }
      ],
      "source": [
        "a=np.bincount([1,3,4,5,7,11,2,3,4])\n",
        "b=np.repeat(np.arange(len(a)),a)\n",
        "print(b)"
      ]
    },
    {
      "cell_type": "markdown",
      "metadata": {
        "id": "ba9ESzy47vM1"
      },
      "source": [
        "#### 75. How to compute averages using a sliding window over an array? (★★★) \n",
        "(**hint**: np.cumsum)"
      ]
    },
    {
      "cell_type": "code",
      "execution_count": 7,
      "metadata": {
        "id": "AqhiNIe57vM2",
        "colab": {
          "base_uri": "https://localhost:8080/"
        },
        "outputId": "879ef36a-d028-40fb-ed95-2a323eebb694"
      },
      "outputs": [
        {
          "output_type": "stream",
          "name": "stdout",
          "text": [
            "[ 1.  2.  3.  4.  5.  6.  7.  8.  9. 10. 11. 12. 13. 14. 15. 16. 17. 18.\n",
            " 19. 20. 21. 22. 23.]\n"
          ]
        }
      ],
      "source": [
        "def moving_average(a, n=3) :\n",
        "    ret = np.cumsum(a, dtype=float)\n",
        "    ret[n:] = ret[n:] - ret[:-n]\n",
        "    return ret[n - 1:] / n\n",
        "Z = np.arange(25)\n",
        "print(moving_average(Z, n=3))"
      ]
    },
    {
      "cell_type": "markdown",
      "metadata": {
        "id": "XgzYnV-37vM2"
      },
      "source": [
        "#### 76. Consider a one-dimensional array Z, build a two-dimensional array whose first row is (Z\\[0\\],Z\\[1\\],Z\\[2\\]) and each subsequent row is  shifted by 1 (last row should be (Z\\[-3\\],Z\\[-2\\],Z\\[-1\\]) (★★★) \n",
        "(**hint**: from numpy.lib import stride_tricks)"
      ]
    },
    {
      "cell_type": "code",
      "execution_count": 8,
      "metadata": {
        "id": "_K8MRREC7vM2",
        "colab": {
          "base_uri": "https://localhost:8080/"
        },
        "outputId": "97d2efae-6774-41ce-d42e-ab76afe084d9"
      },
      "outputs": [
        {
          "output_type": "stream",
          "name": "stdout",
          "text": [
            "[[0 1 2]\n",
            " [1 2 3]\n",
            " [2 3 4]\n",
            " [3 4 5]\n",
            " [4 5 6]\n",
            " [5 6 7]\n",
            " [6 7 8]\n",
            " [7 8 9]]\n"
          ]
        }
      ],
      "source": [
        "from numpy.lib import stride_tricks\n",
        "\n",
        "def rolling(a, window):\n",
        "    shape = (a.size - window + 1, window)\n",
        "    strides = (a.strides[0], a.strides[0])\n",
        "    return stride_tricks.as_strided(a, shape=shape, strides=strides)\n",
        "Z = rolling(np.arange(10), 3)\n",
        "print(Z)"
      ]
    },
    {
      "cell_type": "markdown",
      "metadata": {
        "id": "wDn9o4UI7vM2"
      },
      "source": [
        "#### 77. How to negate a boolean, or to change the sign of a float inplace? (★★★) \n",
        "(**hint**: np.logical_not, np.negative)"
      ]
    },
    {
      "cell_type": "code",
      "execution_count": 9,
      "metadata": {
        "id": "baSZ3huL7vM3",
        "colab": {
          "base_uri": "https://localhost:8080/"
        },
        "outputId": "6def61e5-a170-45dc-cd91-e6600c8159fa"
      },
      "outputs": [
        {
          "output_type": "execute_result",
          "data": {
            "text/plain": [
              "array([ 0.87534951,  0.82319276,  0.88615923, -0.92168234, -0.22730681,\n",
              "       -0.3512736 , -0.48772155,  0.49945217,  0.91284217,  0.42299148,\n",
              "       -0.35056945,  0.40399673,  0.97539763, -0.04042929,  0.99900988,\n",
              "        0.1798744 , -0.53189066, -0.76599658, -0.13433122, -0.3542168 ,\n",
              "       -0.26351444,  0.16371189, -0.2343567 , -0.14021074, -0.51065423,\n",
              "        0.91822819, -0.016925  ,  0.82121898, -0.66141671,  0.64997448,\n",
              "       -0.34043588, -0.49353931, -0.47178329, -0.77910834,  0.03818044,\n",
              "       -0.90527556,  0.22084984,  0.78548723,  0.96257658,  0.16163156,\n",
              "        0.77209348, -0.4763343 ,  0.37139629,  0.67526542,  0.36307152,\n",
              "       -0.53781242,  0.77988068, -0.49098905,  0.86581615, -0.81705616,\n",
              "       -0.55282912, -0.50658996, -0.02371386,  0.61905264,  0.77912426,\n",
              "        0.33477086,  0.45843727,  0.65743802,  0.42056622,  0.23197008,\n",
              "       -0.1993805 , -0.58441169,  0.25241063, -0.55942379, -0.56961972,\n",
              "        0.80372926,  0.4967549 , -0.10272114,  0.14978334, -0.23122918,\n",
              "       -0.27389183, -0.93765601,  0.98419484, -0.89118385,  0.32268384,\n",
              "       -0.29359299,  0.74785761,  0.95194377,  0.3422787 , -0.25469593,\n",
              "        0.32644756,  0.47043959,  0.50201404,  0.50911409, -0.11168611,\n",
              "        0.51106186,  0.93262389, -0.07927159,  0.55883737,  0.52170739,\n",
              "        0.08244035, -0.19955631, -0.3792308 ,  0.27543393,  0.67529942,\n",
              "       -0.05670788, -0.89645157, -0.24272761,  0.75586662, -0.78687516])"
            ]
          },
          "metadata": {},
          "execution_count": 9
        }
      ],
      "source": [
        "Z = np.random.randint(0,2,100)\n",
        "np.logical_not(Z, out=Z)\n",
        "Z = np.random.uniform(-1.0,1.0,100)\n",
        "np.negative(Z, out=Z)"
      ]
    },
    {
      "cell_type": "markdown",
      "metadata": {
        "id": "I8Xy6t_q7vM3"
      },
      "source": [
        "#### 78. Consider 2 sets of points P0,P1 describing lines (2d) and a point p, how to compute distance from p to each line i  (P0\\[i\\],P1\\[i\\])? (★★★)"
      ]
    },
    {
      "cell_type": "code",
      "execution_count": 10,
      "metadata": {
        "id": "SFmnCzJp7vM3",
        "colab": {
          "base_uri": "https://localhost:8080/"
        },
        "outputId": "840b2f21-de93-4d79-86ff-d99c995984bd"
      },
      "outputs": [
        {
          "output_type": "execute_result",
          "data": {
            "text/plain": [
              "array([ 6.9310869 ,  1.67965454,  1.371434  ,  7.02261224,  9.6118269 ,\n",
              "       10.68300407,  0.83696737,  7.39148569,  4.33644348,  3.10453269])"
            ]
          },
          "metadata": {},
          "execution_count": 10
        }
      ],
      "source": [
        "def distance(P0,P1,p):\n",
        "    t=P1 - P0\n",
        "    l=(t**2).sum(axis=1)\n",
        "    u=-((P0[:,0]-p[...,0])*t[:,0] + (P0[:,1]-p[...,1])*t[:,1]) / l\n",
        "    u=u.reshape(len(u),1)\n",
        "    d=P0+u*t-p\n",
        "    return np.sqrt((d**2).sum(axis=1))\n",
        "P0=np.random.uniform(-10,10,(10,2))\n",
        "P1=np.random.uniform(-10,10,(10,2))\n",
        "p=np.random.uniform(-10,10,( 1,2))\n",
        "distance(P0, P1, p)"
      ]
    },
    {
      "cell_type": "markdown",
      "metadata": {
        "id": "7Fq7ZsFT7vM4"
      },
      "source": [
        "#### 79. Consider 2 sets of points P0,P1 describing lines (2d) and a set of points P, how to compute distance from each point j (P\\[j\\]) to each line i (P0\\[i\\],P1\\[i\\])? (★★★)"
      ]
    },
    {
      "cell_type": "code",
      "execution_count": 12,
      "metadata": {
        "id": "9hE2oyFq7vM4",
        "colab": {
          "base_uri": "https://localhost:8080/"
        },
        "outputId": "698afd61-7df2-4455-8980-4794093c0a3b"
      },
      "outputs": [
        {
          "output_type": "stream",
          "name": "stdout",
          "text": [
            "[[ 2.28627034  5.84222588  4.39016062  2.97371071  1.18665123  6.94053254\n",
            "   6.04737525  2.40321584  3.18433958  2.84268717]\n",
            " [ 0.48913312 12.62157873  2.89086343 10.16612996  6.14563496  3.39869214\n",
            "   2.05837581  4.69401299  2.66617087  7.51479385]\n",
            " [ 5.02198661  2.7474516   3.86148466  0.59090075  5.15609887 10.01721043\n",
            "   7.03541104  5.84161248  5.4845234   0.69466264]\n",
            " [ 2.92772028  4.4247254   9.48943532  2.57948132  0.26490788  1.92197435\n",
            "  10.16745474  3.10403742  5.86956815  7.40677601]\n",
            " [ 1.62289026 11.85543161  1.57494381  9.00890409  4.55508903  5.58641397\n",
            "   1.48930338  3.64887879  2.4587345   5.2670427 ]\n",
            " [11.31646218  6.87474984 15.04781286  6.5931913   5.5140351   6.69891497\n",
            "  12.91438094  0.45910255  5.6186897  16.15808379]\n",
            " [13.22344675  5.14080445 17.59266126  5.25473628  4.74733901  8.39398207\n",
            "  15.41868528  1.00245901  7.77531374 17.46554658]\n",
            " [ 4.8267951   2.17745389  4.34149722  1.11356015  5.59102656  9.88906148\n",
            "   7.61383193  6.38041584  6.08454972  0.67767835]\n",
            " [ 0.53484402  2.45381184 11.36015259  4.63713353  7.52520066  5.09506966\n",
            "  14.45477798 10.24791172 11.91243276  3.07094834]\n",
            " [ 6.06980995  3.40510841 12.65489723  2.17940426  0.14036283  1.08323299\n",
            "  12.78604202  3.69036812  7.64757504 10.10798417]]\n"
          ]
        }
      ],
      "source": [
        "P0 = np.random.uniform(-10, 10, (10,2))\n",
        "P1 = np.random.uniform(-10,10,(10,2))\n",
        "p = np.random.uniform(-10, 10, (10,2))\n",
        "print(np.array([distance(P0,P1,p_i) for p_i in p]))"
      ]
    },
    {
      "cell_type": "markdown",
      "metadata": {
        "id": "8fXiOUCc7vM4"
      },
      "source": [
        "#### 80. Consider an arbitrary array, write a function that extract a subpart with a fixed shape and centered on a given element (pad with a `fill` value when necessary) (★★★) \n",
        "(**hint**: minimum, maximum)"
      ]
    },
    {
      "cell_type": "code",
      "execution_count": 13,
      "metadata": {
        "id": "YDhRVYX97vM4",
        "colab": {
          "base_uri": "https://localhost:8080/"
        },
        "outputId": "3bfc6120-06c0-43b7-d071-c474abd0c548"
      },
      "outputs": [
        {
          "output_type": "stream",
          "name": "stdout",
          "text": [
            "[[8 1 1 1 5 7 5 7 8 2]\n",
            " [4 1 8 1 3 4 3 1 0 7]\n",
            " [8 3 8 7 1 4 9 3 0 8]\n",
            " [3 6 6 4 0 1 1 8 2 9]\n",
            " [4 5 2 8 0 7 4 1 4 4]\n",
            " [7 1 4 2 0 5 8 9 6 2]\n",
            " [0 1 4 2 0 9 0 7 9 4]\n",
            " [3 7 3 2 0 9 3 6 4 3]\n",
            " [6 3 4 4 4 8 8 0 8 8]\n",
            " [7 3 6 8 6 6 8 0 9 9]]\n",
            "[[0 0 0 0 0]\n",
            " [0 8 1 1 1]\n",
            " [0 4 1 8 1]\n",
            " [0 8 3 8 7]\n",
            " [0 3 6 6 4]]\n"
          ]
        },
        {
          "output_type": "stream",
          "name": "stderr",
          "text": [
            "/usr/local/lib/python3.7/dist-packages/ipykernel_launcher.py:19: FutureWarning: Using a non-tuple sequence for multidimensional indexing is deprecated; use `arr[tuple(seq)]` instead of `arr[seq]`. In the future this will be interpreted as an array index, `arr[np.array(seq)]`, which will result either in an error or a different result.\n"
          ]
        }
      ],
      "source": [
        "Z = np.random.randint(0,10,(10,10))\n",
        "shape = (5,5)\n",
        "fill  = 0\n",
        "position = (1,1)\n",
        "R = np.ones(shape, dtype=Z.dtype)*fill\n",
        "P  = np.array(list(position)).astype(int)\n",
        "Rs = np.array(list(R.shape)).astype(int)\n",
        "Zs = np.array(list(Z.shape)).astype(int)\n",
        "R_start = np.zeros((len(shape),)).astype(int)\n",
        "R_stop  = np.array(list(shape)).astype(int)\n",
        "Z_start = (P-Rs//2)\n",
        "Z_stop  = (P+Rs//2)+Rs%2\n",
        "R_start = (R_start - np.minimum(Z_start,0)).tolist()\n",
        "Z_start = (np.maximum(Z_start,0)).tolist()\n",
        "R_stop = np.maximum(R_start, (R_stop - np.maximum(Z_stop-Zs,0))).tolist()\n",
        "Z_stop = (np.minimum(Z_stop,Zs)).tolist()\n",
        "r = [slice(start,stop) for start,stop in zip(R_start,R_stop)]\n",
        "z = [slice(start,stop) for start,stop in zip(Z_start,Z_stop)]\n",
        "R[r] = Z[z]\n",
        "print(Z)\n",
        "print(R)"
      ]
    },
    {
      "cell_type": "markdown",
      "metadata": {
        "id": "7hbDNzIr7vM5"
      },
      "source": [
        "#### 81. Consider an array Z = \\[1,2,3,4,5,6,7,8,9,10,11,12,13,14\\], how to generate an array R = \\[\\[1,2,3,4\\], \\[2,3,4,5\\], \\[3,4,5,6\\], ..., \\[11,12,13,14\\]\\]? (★★★) \n",
        "(**hint**: stride\\_tricks.as\\_strided)"
      ]
    },
    {
      "cell_type": "code",
      "execution_count": 15,
      "metadata": {
        "id": "tJ5VdWGX7vM5",
        "colab": {
          "base_uri": "https://localhost:8080/"
        },
        "outputId": "16ee3fa1-2673-4c6a-bf3f-ed71867f370a"
      },
      "outputs": [
        {
          "output_type": "stream",
          "name": "stdout",
          "text": [
            "[[ 1  2  3  4]\n",
            " [ 2  3  4  5]\n",
            " [ 3  4  5  6]\n",
            " [ 4  5  6  7]\n",
            " [ 5  6  7  8]\n",
            " [ 6  7  8  9]\n",
            " [ 7  8  9 10]\n",
            " [ 8  9 10 11]\n",
            " [ 9 10 11 12]\n",
            " [10 11 12 13]\n",
            " [11 12 13 14]]\n"
          ]
        }
      ],
      "source": [
        "Z = np.arange(1,15,dtype=np.uint32)\n",
        "A = stride_tricks.as_strided(Z,(11,4),(4,4))\n",
        "print(A)"
      ]
    },
    {
      "cell_type": "markdown",
      "metadata": {
        "id": "6LZSqxAu7vM5"
      },
      "source": [
        "#### 82. Compute a matrix rank (★★★) \n",
        "(**hint**: np.linalg.svd) (suggestion: np.linalg.svd)"
      ]
    },
    {
      "cell_type": "code",
      "execution_count": 16,
      "metadata": {
        "id": "g2Q00GbQ7vM5",
        "colab": {
          "base_uri": "https://localhost:8080/"
        },
        "outputId": "64a088c9-952a-4d9a-fd24-0efd24c78653"
      },
      "outputs": [
        {
          "output_type": "stream",
          "name": "stdout",
          "text": [
            "10\n"
          ]
        }
      ],
      "source": [
        "Z = np.random.uniform(0,1,(10,10))\n",
        "U, S, V = np.linalg.svd(Z)\n",
        "rank = np.sum(S > 1e-10)\n",
        "print(rank)"
      ]
    },
    {
      "cell_type": "markdown",
      "metadata": {
        "id": "kzJ87Wk77vM6"
      },
      "source": [
        "#### 83. How to find the most frequent value in an array? \n",
        "(**hint**: np.bincount, argmax)"
      ]
    },
    {
      "cell_type": "code",
      "execution_count": 17,
      "metadata": {
        "id": "g_z47iYr7vM6",
        "colab": {
          "base_uri": "https://localhost:8080/"
        },
        "outputId": "bbd4c24d-7504-4c0f-9957-c989e4c87a4a"
      },
      "outputs": [
        {
          "output_type": "stream",
          "name": "stdout",
          "text": [
            "7\n"
          ]
        }
      ],
      "source": [
        "Z = np.random.randint(0,10,50)\n",
        "print(np.bincount(Z).argmax())"
      ]
    },
    {
      "cell_type": "markdown",
      "metadata": {
        "id": "bXMIXFWF7vM6"
      },
      "source": [
        "#### 84. Extract all the contiguous 3x3 blocks from a random 10x10 matrix (★★★) \n",
        "(**hint**: stride\\_tricks.as\\_strided)"
      ]
    },
    {
      "cell_type": "code",
      "execution_count": 18,
      "metadata": {
        "id": "tMJ6w6u27vM7",
        "colab": {
          "base_uri": "https://localhost:8080/"
        },
        "outputId": "1dfe294b-d5ce-44d7-8627-c18a8e9adb5a"
      },
      "outputs": [
        {
          "output_type": "stream",
          "name": "stdout",
          "text": [
            "[[[[2 4 1]\n",
            "   [2 0 0]\n",
            "   [0 2 0]]\n",
            "\n",
            "  [[4 1 1]\n",
            "   [0 0 4]\n",
            "   [2 0 3]]\n",
            "\n",
            "  [[1 1 3]\n",
            "   [0 4 0]\n",
            "   [0 3 4]]\n",
            "\n",
            "  [[1 3 3]\n",
            "   [4 0 1]\n",
            "   [3 4 4]]\n",
            "\n",
            "  [[3 3 1]\n",
            "   [0 1 4]\n",
            "   [4 4 3]]\n",
            "\n",
            "  [[3 1 4]\n",
            "   [1 4 4]\n",
            "   [4 3 3]]\n",
            "\n",
            "  [[1 4 0]\n",
            "   [4 4 4]\n",
            "   [3 3 4]]\n",
            "\n",
            "  [[4 0 0]\n",
            "   [4 4 4]\n",
            "   [3 4 0]]]\n",
            "\n",
            "\n",
            " [[[2 0 0]\n",
            "   [0 2 0]\n",
            "   [4 0 0]]\n",
            "\n",
            "  [[0 0 4]\n",
            "   [2 0 3]\n",
            "   [0 0 4]]\n",
            "\n",
            "  [[0 4 0]\n",
            "   [0 3 4]\n",
            "   [0 4 2]]\n",
            "\n",
            "  [[4 0 1]\n",
            "   [3 4 4]\n",
            "   [4 2 0]]\n",
            "\n",
            "  [[0 1 4]\n",
            "   [4 4 3]\n",
            "   [2 0 0]]\n",
            "\n",
            "  [[1 4 4]\n",
            "   [4 3 3]\n",
            "   [0 0 3]]\n",
            "\n",
            "  [[4 4 4]\n",
            "   [3 3 4]\n",
            "   [0 3 1]]\n",
            "\n",
            "  [[4 4 4]\n",
            "   [3 4 0]\n",
            "   [3 1 3]]]\n",
            "\n",
            "\n",
            " [[[0 2 0]\n",
            "   [4 0 0]\n",
            "   [1 3 4]]\n",
            "\n",
            "  [[2 0 3]\n",
            "   [0 0 4]\n",
            "   [3 4 0]]\n",
            "\n",
            "  [[0 3 4]\n",
            "   [0 4 2]\n",
            "   [4 0 0]]\n",
            "\n",
            "  [[3 4 4]\n",
            "   [4 2 0]\n",
            "   [0 0 3]]\n",
            "\n",
            "  [[4 4 3]\n",
            "   [2 0 0]\n",
            "   [0 3 4]]\n",
            "\n",
            "  [[4 3 3]\n",
            "   [0 0 3]\n",
            "   [3 4 1]]\n",
            "\n",
            "  [[3 3 4]\n",
            "   [0 3 1]\n",
            "   [4 1 2]]\n",
            "\n",
            "  [[3 4 0]\n",
            "   [3 1 3]\n",
            "   [1 2 0]]]\n",
            "\n",
            "\n",
            " [[[4 0 0]\n",
            "   [1 3 4]\n",
            "   [0 0 4]]\n",
            "\n",
            "  [[0 0 4]\n",
            "   [3 4 0]\n",
            "   [0 4 3]]\n",
            "\n",
            "  [[0 4 2]\n",
            "   [4 0 0]\n",
            "   [4 3 1]]\n",
            "\n",
            "  [[4 2 0]\n",
            "   [0 0 3]\n",
            "   [3 1 3]]\n",
            "\n",
            "  [[2 0 0]\n",
            "   [0 3 4]\n",
            "   [1 3 2]]\n",
            "\n",
            "  [[0 0 3]\n",
            "   [3 4 1]\n",
            "   [3 2 1]]\n",
            "\n",
            "  [[0 3 1]\n",
            "   [4 1 2]\n",
            "   [2 1 2]]\n",
            "\n",
            "  [[3 1 3]\n",
            "   [1 2 0]\n",
            "   [1 2 4]]]\n",
            "\n",
            "\n",
            " [[[1 3 4]\n",
            "   [0 0 4]\n",
            "   [0 2 1]]\n",
            "\n",
            "  [[3 4 0]\n",
            "   [0 4 3]\n",
            "   [2 1 3]]\n",
            "\n",
            "  [[4 0 0]\n",
            "   [4 3 1]\n",
            "   [1 3 1]]\n",
            "\n",
            "  [[0 0 3]\n",
            "   [3 1 3]\n",
            "   [3 1 4]]\n",
            "\n",
            "  [[0 3 4]\n",
            "   [1 3 2]\n",
            "   [1 4 0]]\n",
            "\n",
            "  [[3 4 1]\n",
            "   [3 2 1]\n",
            "   [4 0 4]]\n",
            "\n",
            "  [[4 1 2]\n",
            "   [2 1 2]\n",
            "   [0 4 0]]\n",
            "\n",
            "  [[1 2 0]\n",
            "   [1 2 4]\n",
            "   [4 0 0]]]\n",
            "\n",
            "\n",
            " [[[0 0 4]\n",
            "   [0 2 1]\n",
            "   [2 3 3]]\n",
            "\n",
            "  [[0 4 3]\n",
            "   [2 1 3]\n",
            "   [3 3 1]]\n",
            "\n",
            "  [[4 3 1]\n",
            "   [1 3 1]\n",
            "   [3 1 1]]\n",
            "\n",
            "  [[3 1 3]\n",
            "   [3 1 4]\n",
            "   [1 1 1]]\n",
            "\n",
            "  [[1 3 2]\n",
            "   [1 4 0]\n",
            "   [1 1 2]]\n",
            "\n",
            "  [[3 2 1]\n",
            "   [4 0 4]\n",
            "   [1 2 4]]\n",
            "\n",
            "  [[2 1 2]\n",
            "   [0 4 0]\n",
            "   [2 4 4]]\n",
            "\n",
            "  [[1 2 4]\n",
            "   [4 0 0]\n",
            "   [4 4 4]]]\n",
            "\n",
            "\n",
            " [[[0 2 1]\n",
            "   [2 3 3]\n",
            "   [1 2 1]]\n",
            "\n",
            "  [[2 1 3]\n",
            "   [3 3 1]\n",
            "   [2 1 1]]\n",
            "\n",
            "  [[1 3 1]\n",
            "   [3 1 1]\n",
            "   [1 1 1]]\n",
            "\n",
            "  [[3 1 4]\n",
            "   [1 1 1]\n",
            "   [1 1 1]]\n",
            "\n",
            "  [[1 4 0]\n",
            "   [1 1 2]\n",
            "   [1 1 1]]\n",
            "\n",
            "  [[4 0 4]\n",
            "   [1 2 4]\n",
            "   [1 1 2]]\n",
            "\n",
            "  [[0 4 0]\n",
            "   [2 4 4]\n",
            "   [1 2 1]]\n",
            "\n",
            "  [[4 0 0]\n",
            "   [4 4 4]\n",
            "   [2 1 2]]]\n",
            "\n",
            "\n",
            " [[[2 3 3]\n",
            "   [1 2 1]\n",
            "   [1 0 2]]\n",
            "\n",
            "  [[3 3 1]\n",
            "   [2 1 1]\n",
            "   [0 2 0]]\n",
            "\n",
            "  [[3 1 1]\n",
            "   [1 1 1]\n",
            "   [2 0 0]]\n",
            "\n",
            "  [[1 1 1]\n",
            "   [1 1 1]\n",
            "   [0 0 4]]\n",
            "\n",
            "  [[1 1 2]\n",
            "   [1 1 1]\n",
            "   [0 4 2]]\n",
            "\n",
            "  [[1 2 4]\n",
            "   [1 1 2]\n",
            "   [4 2 1]]\n",
            "\n",
            "  [[2 4 4]\n",
            "   [1 2 1]\n",
            "   [2 1 4]]\n",
            "\n",
            "  [[4 4 4]\n",
            "   [2 1 2]\n",
            "   [1 4 2]]]]\n"
          ]
        }
      ],
      "source": [
        "Z = np.random.randint(0,5,(10,10))\n",
        "n = 3\n",
        "i = 1 + (Z.shape[0]-3)\n",
        "j = 1 + (Z.shape[1]-3)\n",
        "C = stride_tricks.as_strided(Z, shape=(i, j, n, n), strides=Z.strides + Z.strides)\n",
        "print(C)"
      ]
    },
    {
      "cell_type": "markdown",
      "metadata": {
        "id": "GrfOhDMb7vM7"
      },
      "source": [
        "#### 85. Create a 2D array subclass such that Z\\[i,j\\] == Z\\[j,i\\] (★★★) \n",
        "(**hint**: class method)"
      ]
    },
    {
      "cell_type": "code",
      "execution_count": 19,
      "metadata": {
        "id": "fCjNijpb7vM7",
        "colab": {
          "base_uri": "https://localhost:8080/"
        },
        "outputId": "a412dd77-95e2-4004-e905-9158237a674d"
      },
      "outputs": [
        {
          "output_type": "stream",
          "name": "stdout",
          "text": [
            "[[ 2  9  7 17 13]\n",
            " [ 9  2  9 11  7]\n",
            " [ 7  9  7 42 12]\n",
            " [17 11 42  9  6]\n",
            " [13  7 12  6  3]]\n"
          ]
        }
      ],
      "source": [
        "class Symetric(np.ndarray):\n",
        "    def __setitem__(self, index, value):\n",
        "        i,j = index\n",
        "        super(Symetric, self).__setitem__((i,j), value)\n",
        "        super(Symetric, self).__setitem__((j,i), value)\n",
        "def symetric(Z):\n",
        "    return np.asarray(Z + Z.T - np.diag(Z.diagonal())).view(Symetric)\n",
        "S = symetric(np.random.randint(0,10,(5,5)))\n",
        "S[2,3] = 42\n",
        "print(S)"
      ]
    },
    {
      "cell_type": "markdown",
      "metadata": {
        "id": "YJk6I-hg7vM7"
      },
      "source": [
        "#### 86. Consider a set of p matrices wich shape (n,n) and a set of p vectors with shape (n,1). How to compute the sum of of the p matrix products at once? (result has shape (n,1)) (★★★) \n",
        "(**hint**: np.tensordot)"
      ]
    },
    {
      "cell_type": "code",
      "execution_count": 20,
      "metadata": {
        "id": "9y3uTvC37vM8",
        "colab": {
          "base_uri": "https://localhost:8080/"
        },
        "outputId": "7c9b1777-c07a-4590-9a75-352758cefdbb"
      },
      "outputs": [
        {
          "output_type": "stream",
          "name": "stdout",
          "text": [
            "[[200.]\n",
            " [200.]\n",
            " [200.]\n",
            " [200.]\n",
            " [200.]\n",
            " [200.]\n",
            " [200.]\n",
            " [200.]\n",
            " [200.]\n",
            " [200.]\n",
            " [200.]\n",
            " [200.]\n",
            " [200.]\n",
            " [200.]\n",
            " [200.]\n",
            " [200.]\n",
            " [200.]\n",
            " [200.]\n",
            " [200.]\n",
            " [200.]]\n"
          ]
        }
      ],
      "source": [
        "p,n= 10, 20\n",
        "M=np.ones((p,n,n))\n",
        "V=np.ones((p,n,1))\n",
        "X=np.tensordot(M, V, axes=[[0, 2], [0, 1]])\n",
        "print(X)"
      ]
    },
    {
      "cell_type": "markdown",
      "metadata": {
        "id": "A4zexbV-7vM8"
      },
      "source": [
        "#### 87. Consider a 16x16 array, how to get the block-sum (block size is 4x4)? (★★★) \n",
        "(**hint**: np.add.reduceat)"
      ]
    },
    {
      "cell_type": "code",
      "execution_count": 23,
      "metadata": {
        "id": "Z7Mb411T7vM8",
        "colab": {
          "base_uri": "https://localhost:8080/"
        },
        "outputId": "c64b4047-11c5-4b2c-f58e-ac1b296d0ade"
      },
      "outputs": [
        {
          "output_type": "stream",
          "name": "stdout",
          "text": [
            "[[16. 16. 16. 16.]\n",
            " [16. 16. 16. 16.]\n",
            " [16. 16. 16. 16.]\n",
            " [16. 16. 16. 16.]]\n"
          ]
        }
      ],
      "source": [
        "Z = np.ones((16,16))\n",
        "k = 4\n",
        "S = np.add.reduceat(np.add.reduceat(Z, np.arange(0, Z.shape[0], k), axis=0), np.arange(0, Z.shape[1], k), axis=1)\n",
        "print(S)"
      ]
    },
    {
      "cell_type": "markdown",
      "metadata": {
        "id": "SRJsHGV97vM8"
      },
      "source": [
        "#### 88. How to implement the Game of Life using numpy arrays? (★★★)"
      ]
    },
    {
      "cell_type": "code",
      "execution_count": 24,
      "metadata": {
        "id": "ofdbzFBR7vM9",
        "colab": {
          "base_uri": "https://localhost:8080/"
        },
        "outputId": "206bb996-f8af-4f73-b74d-c5e155bf79a0"
      },
      "outputs": [
        {
          "output_type": "stream",
          "name": "stdout",
          "text": [
            "[[0 0 0 ... 0 0 0]\n",
            " [0 0 0 ... 0 0 0]\n",
            " [0 0 0 ... 1 0 0]\n",
            " ...\n",
            " [0 0 0 ... 0 0 0]\n",
            " [0 0 0 ... 0 0 0]\n",
            " [0 0 0 ... 0 0 0]]\n"
          ]
        }
      ],
      "source": [
        "def iterate(Z):\n",
        "    N = (Z[0:-2,0:-2] + Z[0:-2,1:-1] + Z[0:-2,2:] +\n",
        "         Z[1:-1,0:-2]                + Z[1:-1,2:] +\n",
        "         Z[2:  ,0:-2] + Z[2:  ,1:-1] + Z[2:  ,2:])\n",
        "    birth = (N==3) & (Z[1:-1,1:-1]==0)\n",
        "    survive = ((N==2) | (N==3)) & (Z[1:-1,1:-1]==1)\n",
        "    Z[...] = 0\n",
        "    Z[1:-1,1:-1][birth | survive] = 1\n",
        "    return Z\n",
        "Z = np.random.randint(0,2,(50,50))\n",
        "for i in range(10): Z = iterate(Z)\n",
        "print(Z)"
      ]
    },
    {
      "cell_type": "markdown",
      "metadata": {
        "id": "Xc73siEy7vM9"
      },
      "source": [
        "#### 89. How to get the n largest values of an array (★★★) \n",
        "(**hint**: np.argsort | np.argpartition)"
      ]
    },
    {
      "cell_type": "code",
      "execution_count": 26,
      "metadata": {
        "id": "mJQIzqTd7vM9",
        "colab": {
          "base_uri": "https://localhost:8080/"
        },
        "outputId": "7308d5ca-4930-4961-854d-a15242f5c3dd"
      },
      "outputs": [
        {
          "output_type": "stream",
          "name": "stdout",
          "text": [
            "[245 246 247 248 249]\n",
            "[247 248 245 246 249]\n"
          ]
        }
      ],
      "source": [
        "Z = np.arange(250)\n",
        "np.random.shuffle(Z)\n",
        "n = 5\n",
        "print (Z[np.argsort(Z)[-n:]])\n",
        "print (Z[np.argpartition(-Z,n)[:n]])"
      ]
    },
    {
      "cell_type": "markdown",
      "metadata": {
        "id": "PiXXyG307vM-"
      },
      "source": [
        "#### 90. Given an arbitrary number of vectors, build the cartesian product (every combinations of every item) (★★★) \n",
        "(**hint**: np.indices)"
      ]
    },
    {
      "cell_type": "code",
      "execution_count": 27,
      "metadata": {
        "scrolled": true,
        "id": "Q9bc-d3d7vM-",
        "colab": {
          "base_uri": "https://localhost:8080/"
        },
        "outputId": "129f5db4-ed85-489b-c48c-3baec01e9abe"
      },
      "outputs": [
        {
          "output_type": "stream",
          "name": "stdout",
          "text": [
            "[[1 4 6]\n",
            " [1 4 7]\n",
            " [1 5 6]\n",
            " [1 5 7]\n",
            " [2 4 6]\n",
            " [2 4 7]\n",
            " [2 5 6]\n",
            " [2 5 7]\n",
            " [3 4 6]\n",
            " [3 4 7]\n",
            " [3 5 6]\n",
            " [3 5 7]]\n"
          ]
        }
      ],
      "source": [
        "def cartesian(arrays):\n",
        "    arrays = [np.asarray(a) for a in arrays]\n",
        "    shape = (len(x) for x in arrays)\n",
        "\n",
        "    ix = np.indices(shape, dtype=int)\n",
        "    ix = ix.reshape(len(arrays), -1).T\n",
        "\n",
        "    for n, arr in enumerate(arrays):\n",
        "        ix[:, n] = arrays[n][ix[:, n]]\n",
        "\n",
        "    return ix\n",
        "\n",
        "print (cartesian(([1, 2, 3], [4, 5], [6, 7])))"
      ]
    },
    {
      "cell_type": "markdown",
      "metadata": {
        "id": "Nw2kuxsy7vM-"
      },
      "source": [
        "#### 91. How to create a record array from a regular array? (★★★) \n",
        "(**hint**: np.core.records.fromarrays)"
      ]
    },
    {
      "cell_type": "code",
      "execution_count": 30,
      "metadata": {
        "id": "nKRey3T77vM_",
        "colab": {
          "base_uri": "https://localhost:8080/"
        },
        "outputId": "58230d9e-34df-4a04-96a2-62c7a40d77df"
      },
      "outputs": [
        {
          "output_type": "stream",
          "name": "stdout",
          "text": [
            "[(b'HELLO', 3.5, 6) (b'WORLD', 4.6, 5)]\n"
          ]
        }
      ],
      "source": [
        "Z=np.array([(\"HELLO\",3.5,6),\n",
        "            (\"WORLD\",4.6,5)])\n",
        "R=np.core.records.fromarrays(Z.T,names='col1,col2,col3',formats='S8,f8,i8')\n",
        "print(R)"
      ]
    },
    {
      "cell_type": "markdown",
      "metadata": {
        "id": "89H6sO2-7vM_"
      },
      "source": [
        "#### 92. Consider a large vector Z, compute Z to the power of 3 using 3 different methods (★★★) \n",
        "(**hint**: np.power, \\*, np.einsum)"
      ]
    },
    {
      "cell_type": "code",
      "execution_count": 31,
      "metadata": {
        "id": "hOeQZjNe7vM_",
        "colab": {
          "base_uri": "https://localhost:8080/"
        },
        "outputId": "9dc10c8d-6afd-43d1-f6c8-fa70c5102bf3"
      },
      "outputs": [
        {
          "output_type": "stream",
          "name": "stdout",
          "text": [
            "1 loop, best of 5: 3.78 s per loop\n",
            "10 loops, best of 5: 148 ms per loop\n",
            "10 loops, best of 5: 125 ms per loop\n"
          ]
        }
      ],
      "source": [
        "x=np.random.random(int(5e7))\n",
        "%timeit np.power(x,3)\n",
        "%timeit x*x*x\n",
        "%timeit np.einsum('i,i,i->i',x,x,x)"
      ]
    },
    {
      "cell_type": "markdown",
      "metadata": {
        "id": "jdzBMdoj7vM_"
      },
      "source": [
        "#### 93. Consider two arrays A and B of shape (8,3) and (2,2). How to find rows of A that contain elements of each row of B regardless of the order of the elements in B? (★★★) \n",
        "(**hint**: np.where)"
      ]
    },
    {
      "cell_type": "code",
      "execution_count": 32,
      "metadata": {
        "id": "L2nuaICv7vM_",
        "colab": {
          "base_uri": "https://localhost:8080/"
        },
        "outputId": "511769a4-b9b2-4b6a-aba0-01414f452b6a"
      },
      "outputs": [
        {
          "output_type": "stream",
          "name": "stdout",
          "text": [
            "[0 1 3 4 7]\n"
          ]
        }
      ],
      "source": [
        "A=np.random.randint(0,5,(8,3))\n",
        "B=np.random.randint(0,5,(2,2))\n",
        "C=(A[..., np.newaxis, np.newaxis] == B)\n",
        "rows=np.where(C.any((3,1)).all(1))[0]\n",
        "print(rows)"
      ]
    },
    {
      "cell_type": "markdown",
      "metadata": {
        "id": "y_kM1k577vM_"
      },
      "source": [
        "#### 94. Considering a 10x3 matrix, extract rows with unequal values (e.g. \\[2,2,3\\]) (★★★)"
      ]
    },
    {
      "cell_type": "code",
      "execution_count": 33,
      "metadata": {
        "id": "w8rpHzZg7vNA",
        "colab": {
          "base_uri": "https://localhost:8080/"
        },
        "outputId": "430203fa-3ca2-4925-d642-fb49cda4e37f"
      },
      "outputs": [
        {
          "output_type": "stream",
          "name": "stdout",
          "text": [
            "[[0 3 1]\n",
            " [0 0 1]\n",
            " [1 0 4]\n",
            " [3 3 0]\n",
            " [1 3 4]\n",
            " [0 3 1]\n",
            " [4 0 4]\n",
            " [3 0 2]\n",
            " [0 0 0]\n",
            " [3 2 3]]\n"
          ]
        }
      ],
      "source": [
        "Z = np.random.randint(0,5,(10,3))\n",
        "print(Z)"
      ]
    },
    {
      "cell_type": "markdown",
      "metadata": {
        "id": "rL9JPLu37vNA"
      },
      "source": [
        "#### 95. Convert a vector of ints into a matrix binary representation (★★★) \n",
        "(**hint**: np.unpackbits)"
      ]
    },
    {
      "cell_type": "code",
      "execution_count": 34,
      "metadata": {
        "id": "H6OR0P8n7vNA",
        "colab": {
          "base_uri": "https://localhost:8080/"
        },
        "outputId": "77ffa852-e9c3-4f91-ab9b-34981fa23941"
      },
      "outputs": [
        {
          "output_type": "stream",
          "name": "stdout",
          "text": [
            "[[0 0 0 0 0 0 0 0]\n",
            " [0 0 0 0 0 0 0 1]\n",
            " [0 0 0 0 0 0 1 0]\n",
            " [0 0 0 0 0 0 1 1]\n",
            " [0 0 0 0 1 1 1 1]\n",
            " [0 0 0 1 0 0 0 0]\n",
            " [0 0 1 0 0 0 0 0]\n",
            " [0 1 0 0 0 0 0 0]\n",
            " [1 0 0 0 0 0 0 0]]\n"
          ]
        }
      ],
      "source": [
        "I = np.array([0, 1, 2, 3, 15, 16, 32, 64, 128], dtype=np.uint8)\n",
        "print(np.unpackbits(I[:, np.newaxis], axis=1))"
      ]
    },
    {
      "cell_type": "markdown",
      "metadata": {
        "id": "84fJsBr17vNA"
      },
      "source": [
        "#### 96. Given a two dimensional array, how to extract unique rows? (★★★) \n",
        "(**hint**: np.ascontiguousarray)"
      ]
    },
    {
      "cell_type": "code",
      "execution_count": 35,
      "metadata": {
        "id": "f6fluEYg7vNA",
        "colab": {
          "base_uri": "https://localhost:8080/"
        },
        "outputId": "3e7cba82-7f7b-454c-c407-782c03626753"
      },
      "outputs": [
        {
          "output_type": "stream",
          "name": "stdout",
          "text": [
            "[[0 1 0]\n",
            " [1 0 0]\n",
            " [1 1 1]]\n"
          ]
        }
      ],
      "source": [
        "Z = np.random.randint(0,2,(6,3))\n",
        "T = np.ascontiguousarray(Z).view(np.dtype((np.void, Z.dtype.itemsize * Z.shape[1])))\n",
        "_, idx = np.unique(T, return_index=True)\n",
        "uZ = Z[idx]\n",
        "print(uZ)"
      ]
    },
    {
      "cell_type": "markdown",
      "metadata": {
        "id": "IiXM5rHJ7vNA"
      },
      "source": [
        "#### 97. Considering 2 vectors A & B, write the einsum equivalent of inner, outer, sum, and mul function (★★★) \n",
        "(**hint**: np.einsum)"
      ]
    },
    {
      "cell_type": "code",
      "execution_count": 36,
      "metadata": {
        "id": "XN_gvzOC7vNA",
        "colab": {
          "base_uri": "https://localhost:8080/"
        },
        "outputId": "b2f87b38-c2e9-4318-bb3c-4cc8a3a3ae10"
      },
      "outputs": [
        {
          "output_type": "execute_result",
          "data": {
            "text/plain": [
              "array([[0.01690424, 0.1498562 , 0.04881569, 0.16519517, 0.11324525,\n",
              "        0.00528412, 0.24641671, 0.03352007, 0.12855192, 0.04248411],\n",
              "       [0.03809585, 0.33772001, 0.11001237, 0.37228835, 0.25521259,\n",
              "        0.01190843, 0.55533142, 0.07554175, 0.28970811, 0.09574334],\n",
              "       [0.04904449, 0.43477978, 0.14162961, 0.47928296, 0.32855996,\n",
              "        0.01533088, 0.71493209, 0.09725223, 0.3729694 , 0.1232597 ],\n",
              "       [0.0228091 , 0.20220287, 0.06586763, 0.22289995, 0.15280326,\n",
              "        0.00712993, 0.3324932 , 0.04522906, 0.17345674, 0.05732434],\n",
              "       [0.0155824 , 0.1381381 , 0.04499852, 0.15227764, 0.10438997,\n",
              "        0.00487092, 0.227148  , 0.03089895, 0.11849972, 0.03916203],\n",
              "       [0.02128918, 0.18872878, 0.06147844, 0.20804667, 0.14262098,\n",
              "        0.00665481, 0.31033701, 0.04221515, 0.16189819, 0.05350445],\n",
              "       [0.02950178, 0.26153349, 0.08519459, 0.28830353, 0.19763898,\n",
              "        0.009222  , 0.43005377, 0.05850022, 0.22435263, 0.07414452],\n",
              "       [0.02361347, 0.20933361, 0.06819047, 0.23076057, 0.1581919 ,\n",
              "        0.00738137, 0.34421866, 0.04682407, 0.17957374, 0.0593459 ],\n",
              "       [0.01375147, 0.12190688, 0.03971119, 0.13438502, 0.09212415,\n",
              "        0.00429859, 0.20045813, 0.02726832, 0.10457601, 0.0345605 ],\n",
              "       [0.03495989, 0.30991972, 0.10095642, 0.34164247, 0.2342041 ,\n",
              "        0.01092816, 0.50961788, 0.06932333, 0.26586004, 0.08786198]])"
            ]
          },
          "metadata": {},
          "execution_count": 36
        }
      ],
      "source": [
        "A = np.random.uniform(0,1,10)\n",
        "B = np.random.uniform(0,1,10)\n",
        "np.einsum('i->', A)       \n",
        "np.einsum('i,i->i', A, B) \n",
        "np.einsum('i,i', A, B)    \n",
        "np.einsum('i,j->ij', A, B)"
      ]
    },
    {
      "cell_type": "markdown",
      "metadata": {
        "id": "_J7OrD_P7vNB"
      },
      "source": [
        "#### 98. Considering a path described by two vectors (X,Y), how to sample it using equidistant samples (★★★)? \n",
        "(**hint**: np.cumsum, np.interp)"
      ]
    },
    {
      "cell_type": "code",
      "execution_count": 38,
      "metadata": {
        "collapsed": true,
        "id": "4GhIDmm_7vNB",
        "colab": {
          "base_uri": "https://localhost:8080/"
        },
        "outputId": "b2cebf36-5011-4f9a-dcb2-5d35cb978338"
      },
      "outputs": [
        {
          "output_type": "execute_result",
          "data": {
            "text/plain": [
              "(array([  0.        ,   0.09950042,   0.19601332,   0.28660095,\n",
              "          0.3684244 ,   0.43879128,   0.49520137,   0.53538953,\n",
              "          0.55736537,   0.55944897,   0.54030231,   0.49895573,\n",
              "          0.43482931,   0.34774848,   0.237954  ,   0.1061058 ,\n",
              "         -0.04671924,  -0.21903564,  -0.40896377,  -0.61425018,\n",
              "         -0.83229367,  -1.06017682,  -1.29470246,  -1.53243485,\n",
              "         -1.76974492,  -2.00285904,  -2.22791076,  -2.44099478,\n",
              "         -2.63822255,  -2.81577868,  -2.96997749,  -3.09731897,\n",
              "         -3.19454328,  -3.25868324,  -3.28711385,  -3.27759841,\n",
              "         -3.2283303 ,  -3.13797012,  -3.00567731,  -2.83113599,\n",
              "         -2.61457448,  -2.35677818,  -2.05909545,  -1.72343644,\n",
              "         -1.35226463,  -0.9485811 ,  -0.51590162,  -0.05822672,\n",
              "          0.41999512,   0.91391061,   1.41831093,   1.92768649,\n",
              "          2.43628669,   2.93818398,   3.42734153,   3.89768376,\n",
              "          4.34316892,   4.75786287,   5.1360132 ,   5.47212274,\n",
              "          5.76102172,   5.99793747,   6.178561  ,   6.29910941,\n",
              "          6.35638348,   6.34781957,   6.27153511,   6.12636709,\n",
              "          5.91190293,   5.62850319,   5.27731578,   4.86028133,\n",
              "          4.38012946,   3.84036588,   3.24525022,   2.59976488,\n",
              "          1.9095748 ,   1.18097874,   0.42085228,  -0.36341679,\n",
              "         -1.16400027,  -1.97270765,  -2.78106986,  -3.58042781,\n",
              "         -4.36202469,  -5.11710117,  -5.83699241,  -6.51322582,\n",
              "         -7.13761852,  -7.70237336,  -8.20017236,  -8.62426658,\n",
              "         -8.96856132,  -9.22769553,  -9.3971146 ,  -9.47313548,\n",
              "         -9.45300342,  -9.33493933,  -9.11817747,  -8.80299241,\n",
              "         -8.39071529,  -7.88373862,  -7.28550965,  -6.6005121 ,\n",
              "         -5.83423628,  -4.99313774,  -4.08458482,  -3.11679531,\n",
              "         -2.09876299,  -1.04017448,   0.04868268,   1.1570199 ,\n",
              "          2.27365447,   3.38712238,   4.48579588,   5.55800473,\n",
              "          6.59215971,   7.57687716,   8.50110325,   9.35423652,\n",
              "         10.1262475 ,  10.80779395,  11.39033046,  11.8662112 ,\n",
              "         12.22878455,  12.47247849,  12.59287578,  12.58677787,\n",
              "         12.45225684,  12.18869449,  11.79680816,  11.27866268,\n",
              "         10.63766824,   9.878564  ,   9.00738732,   8.03142895,\n",
              "          6.9591743 ,   5.80023126,   4.56524532,   3.26580248,\n",
              "          1.91432105,   0.52393323,  -0.89164247,  -2.31823644,\n",
              "         -3.74136993,  -5.14640187,  -6.51867941,  -7.84369048,\n",
              "         -9.10721675, -10.29548549, -11.39531869, -12.39427773,\n",
              "        -13.28080214, -14.04434094, -14.67547492, -15.16602867,\n",
              "        -15.50917095, -15.69950221, -15.73312822, -15.60771894,\n",
              "        -15.32255169, -14.87853808, -14.27823434, -13.52583451,\n",
              "        -12.62714655, -11.58955145, -10.42194539,  -9.13466558,\n",
              "         -7.73940027,  -6.24908366,  -4.67777675,  -3.04053512,\n",
              "         -1.35326495,   0.36743138,   2.10441864,   3.84019936,\n",
              "          5.55709009,   7.23740149,   8.86362041,  10.41859212,\n",
              "         11.88570075,  13.24904611,  14.49361496,  15.6054449 ,\n",
              "         16.57177917,  17.38121053,  18.02381279,  18.49125831,\n",
              "         18.7769203 ,  18.87595858,  18.78538775,  18.50412697,\n",
              "         18.03303066,  17.3748994 ,  16.53447108,  15.51839191,\n",
              "         14.33516747,  12.99509423,  11.51017187,   9.89399732,\n",
              "          8.16164124,   6.32950824,   4.41518203,   2.43725688,\n",
              "          0.4151572 ,  -1.63105313,  -3.6808699 ,  -5.713554  ,\n",
              "         -7.70834118,  -9.64465412, -11.50231446, -13.26175272,\n",
              "        -14.9042139 , -16.41195663, -17.76844373, -18.95852214,\n",
              "        -19.96859034, -20.78675129, -21.40294938, -21.80908968,\n",
              "        -21.99913818, -21.96920183, -21.71758737, -21.24483813,\n",
              "        -20.55374833, -19.6493544 , -18.53890336, -17.23179826,\n",
              "        -15.73952118, -14.07553421, -12.25515947, -10.29543901,\n",
              "         -8.21497601,  -6.03375864,  -3.77296837,  -1.45477441,\n",
              "          0.89788356,   3.2615224 ,   5.6123499 ,   7.92650424,\n",
              "         10.18029618,  12.35045135,  14.41435043,  16.35026444,\n",
              "         18.13758293,  19.7570326 ,  21.19088398,  22.42314406,\n",
              "         23.43973275,  24.2286412 ,  24.7800703 ,  25.08654775,\n",
              "         25.14302233,  24.94693422,  24.49826054,  23.79953536,\n",
              "         22.85584389,  21.67479057,  20.26644137,  18.64324051,\n",
              "         16.81990238,  14.81327959,  12.64220817,  10.32733155,\n",
              "          7.89090473,   5.35658069,   2.74918094,   0.09445254,\n",
              "         -2.58118617,  -5.25090838,  -7.88774784, -10.46487118,\n",
              "        -12.95585091, -15.33493623, -17.57731893, -19.65939164,\n",
              "        -21.55899571, -23.25565617, -24.7308012 , -25.96796395,\n",
              "        -26.95296426, -27.67406854, -28.12212595, -28.2906792 ,\n",
              "        -28.17604893, -27.77739036, -27.09672162, -26.13892326,\n",
              "        -24.91170863, -23.42556536, -21.69366836, -19.73176483,\n",
              "        -17.55803252, -15.19291234, -12.6589169 ,  -9.98041672,\n",
              "         -7.18340625,  -4.29525175,  -1.34442375,   1.63978364,\n",
              "          4.6275435 ,   7.58879418,  10.49354182,  13.31216405,\n",
              "         16.01571198,  18.57620727,  20.96693136,  23.16270375,\n",
              "         25.14014653,  26.87793233,  28.35701309,  29.56082725,\n",
              "         30.47548299,  31.08991568,  31.39601771]),\n",
              " array([ 0.00000000e+00,  9.98334166e-03,  3.97338662e-02,  8.86560620e-02,\n",
              "         1.55767337e-01,  2.39712769e-01,  3.38785484e-01,  4.50952381e-01,\n",
              "         5.73884873e-01,  7.04994219e-01,  8.41470985e-01,  9.80328096e-01,\n",
              "         1.11844690e+00,  1.25262564e+00,  1.37962962e+00,  1.49624248e+00,\n",
              "         1.59931776e+00,  1.68583018e+00,  1.75292574e+00,  1.79797017e+00,\n",
              "         1.81859485e+00,  1.81273967e+00,  1.77869209e+00,  1.71512199e+00,\n",
              "         1.62111163e+00,  1.49618036e+00,  1.34030357e+00,  1.15392568e+00,\n",
              "         9.37966820e-01,  6.93823055e-01,  4.23360024e-01,  1.28900054e-01,\n",
              "        -1.86797259e-01, -5.20560791e-01, -8.68839747e-01, -1.22774130e+00,\n",
              "        -1.59307360e+00, -1.96039372e+00, -2.32505999e+00, -2.68228802e+00,\n",
              "        -3.02720998e+00, -3.35493616e+00, -3.66061824e+00, -3.93951353e+00,\n",
              "        -4.18704913e+00, -4.39888553e+00, -4.57097862e+00, -4.69963931e+00,\n",
              "        -4.78159012e+00, -4.81401780e+00, -4.79462137e+00, -4.72165488e+00,\n",
              "        -4.59396421e+00, -4.41101744e+00, -4.17292823e+00, -3.88047179e+00,\n",
              "        -3.53509317e+00, -3.13890759e+00, -2.69469264e+00, -2.20587232e+00,\n",
              "        -1.67649299e+00, -1.11119128e+00, -5.15154297e-01,  1.05927573e-01,\n",
              "         7.45914911e-01,  1.39827992e+00,  2.05617300e+00,  2.71249447e+00,\n",
              "         3.35997079e+00,  3.99123437e+00,  4.59890619e+00,  5.17568018e+00,\n",
              "         5.71440862e+00,  6.20818733e+00,  6.65043991e+00,  7.03499983e+00,\n",
              "         7.35618951e+00,  7.60889540e+00,  7.78863809e+00,  7.89163660e+00,\n",
              "         7.91486597e+00,  7.85610747e+00,  7.71399056e+00,  7.48802622e+00,\n",
              "         7.17863083e+00,  6.78714046e+00,  6.31581504e+00,  5.76783230e+00,\n",
              "         5.14727130e+00,  4.45908562e+00,  3.70906637e+00,  2.90379510e+00,\n",
              "         2.05058721e+00,  1.15742614e+00,  2.32888999e-01, -7.13935644e-01,\n",
              "        -1.67353710e+00, -2.63607808e+00, -3.59149547e+00, -4.52960535e+00,\n",
              "        -5.44021111e+00, -6.31321355e+00, -7.13872181e+00, -7.90716384e+00,\n",
              "        -8.60939528e+00, -9.23680548e+00, -9.78141947e+00, -1.02359947e+01,\n",
              "        -1.05941113e+01, -1.08502552e+01, -1.09998923e+01, -1.10395337e+01,\n",
              "        -1.09667906e+01, -1.07804175e+01, -1.04803452e+01, -1.00677000e+01,\n",
              "        -9.54481170e+00, -8.91520793e+00, -8.18359600e+00, -7.35583164e+00,\n",
              "        -6.43887502e+00, -5.44073432e+00, -4.37039724e+00, -3.23775103e+00,\n",
              "        -2.05349178e+00, -8.29023717e-01,  4.23650395e-01,  1.69204693e+00,\n",
              "         2.96332576e+00,  4.22442026e+00,  5.46217148e+00,  6.66346518e+00,\n",
              "         7.81537039e+00,  8.90527784e+00,  9.92103693e+00,  1.08510898e+01,\n",
              "         1.16846007e+01,  1.24115800e+01,  1.30230002e+01,  1.35109043e+01,\n",
              "         1.38685030e+01,  1.40902624e+01,  1.41719785e+01,  1.41108391e+01,\n",
              "         1.39054720e+01,  1.35559783e+01,  1.30639511e+01,  1.24324784e+01,\n",
              "         1.16661306e+01,  1.07709321e+01,  9.75431760e+00,  8.62507273e+00,\n",
              "         7.39326007e+00,  6.07013077e+00,  4.66802269e+00,  3.20024597e+00,\n",
              "         1.68095698e+00,  1.25021985e-01, -1.45212823e+00, -3.03465144e+00,\n",
              "        -4.60645307e+00, -6.15134982e+00, -7.65323618e+00, -9.09625202e+00,\n",
              "        -1.04649496e+01, -1.17444581e+01, -1.29206445e+01, -1.39802677e+01,\n",
              "        -1.49111262e+01, -1.57021958e+01, -1.63437574e+01, -1.68275116e+01,\n",
              "        -1.71466811e+01, -1.72960977e+01, -1.72722732e+01, -1.70734551e+01,\n",
              "        -1.66996632e+01, -1.61527094e+01, -1.54361988e+01, -1.45555123e+01,\n",
              "        -1.35177704e+01, -1.23317792e+01, -1.10079574e+01, -9.55824719e+00,\n",
              "        -7.99600745e+00, -6.33589144e+00, -4.59371011e+00, -2.78628178e+00,\n",
              "        -9.31270049e-01,  9.52988800e-01,  2.84766698e+00,  4.73363337e+00,\n",
              "         6.59164663e+00,  8.40255146e+00,  1.01474758e+01,  1.18080275e+01,\n",
              "         1.33664870e+01,  1.48059963e+01,  1.61107400e+01,  1.72661176e+01,\n",
              "         1.82589050e+01,  1.90774035e+01,  1.97115745e+01,  2.01531580e+01,\n",
              "         2.03957752e+01,  2.04350108e+01,  2.02684779e+01,  1.98958614e+01,\n",
              "         1.93189409e+01,  1.85415923e+01,  1.75697684e+01,  1.64114568e+01,\n",
              "         1.50766179e+01,  1.35771013e+01,  1.19265421e+01,  1.01402386e+01,\n",
              "         8.23501062e+00,  6.22904253e+00,  4.14170953e+00,  1.99339091e+00,\n",
              "        -1.94728804e-01, -2.40086876e+00, -4.60286854e+00, -6.77841078e+00,\n",
              "        -8.90524730e+00, -1.09614265e+01, -1.29255198e+01, -1.47768443e+01,\n",
              "        -1.64956804e+01, -1.80634807e+01, -1.94630693e+01, -2.06788282e+01,\n",
              "        -2.16968700e+01, -2.25051940e+01, -2.30938241e+01, -2.34549277e+01,\n",
              "        -2.35829134e+01, -2.34745068e+01, -2.31288030e+01, -2.25472954e+01,\n",
              "        -2.17338807e+01, -2.06948388e+01, -1.94387886e+01, -1.79766196e+01,\n",
              "        -1.63213996e+01, -1.44882595e+01, -1.24942561e+01, -1.03582146e+01,\n",
              "        -8.10055113e+00, -5.74307808e+00, -3.30879375e+00, -8.21658021e-01,\n",
              "         1.69364343e+00,  4.21194409e+00,  6.70784844e+00,  9.15598803e+00,\n",
              "         1.15312792e+01,  1.38091801e+01,  1.59659436e+01,  1.79788649e+01,\n",
              "         1.98265197e+01,  2.14889913e+01,  2.29480843e+01,  2.41875221e+01,\n",
              "         2.51931265e+01,  2.59529775e+01,  2.64575510e+01,  2.66998329e+01,\n",
              "         2.66754096e+01,  2.63825314e+01,  2.58221501e+01,  2.49979293e+01,\n",
              "         2.39162273e+01,  2.25860517e+01,  2.10189881e+01,  1.92291009e+01,\n",
              "         1.72328089e+01,  1.50487360e+01,  1.26975380e+01,  1.02017081e+01,\n",
              "         7.58536207e+00,  4.87400556e+00,  2.09428557e+00, -7.26271386e-01,\n",
              "        -3.55953178e+00, -6.37703575e+00, -9.15028291e+00, -1.18510207e+01,\n",
              "        -1.44515319e+01, -1.69249191e+01, -1.92453826e+01, -2.13884889e+01,\n",
              "        -2.33314272e+01, -2.50532516e+01, -2.65351055e+01, -2.77604265e+01,\n",
              "        -2.87151297e+01, -2.93877664e+01, -2.97696578e+01, -2.98550014e+01,\n",
              "        -2.96409487e+01, -2.91276536e+01, -2.83182906e+01, -2.72190427e+01,\n",
              "        -2.58390590e+01, -2.41903808e+01, -2.22878395e+01, -2.01489244e+01,\n",
              "        -1.77936234e+01, -1.52442367e+01, -1.25251670e+01, -9.66268557e+00,\n",
              "        -6.68467926e+00, -3.62037882e+00, -5.00072086e-01]))"
            ]
          },
          "metadata": {},
          "execution_count": 38
        }
      ],
      "source": [
        "Phi = np.arange(0, 10*np.pi, 0.1)\n",
        "a = 1\n",
        "x = a*Phi*np.cos(Phi)\n",
        "y = a*Phi*np.sin(Phi)\n",
        "dr = (np.diff(x)**2 + np.diff(y)**2)**.5 # segment lengths\n",
        "r = np.zeros_like(x)\n",
        "r[1:] = np.cumsum(dr)                # integrate path\n",
        "r_int = np.linspace(0, r.max(), 200) # regular spaced path\n",
        "x_int = np.interp(r_int, r, x)       # integrate path\n",
        "y_int = np.interp(r_int, r, y)\n",
        "x,y"
      ]
    },
    {
      "cell_type": "markdown",
      "metadata": {
        "id": "Siqiqiyl7vNB"
      },
      "source": [
        "#### 99. Given an integer n and a 2D array X, select from X the rows which can be interpreted as draws from a multinomial distribution with n degrees, i.e., the rows which only contain integers and which sum to n. (★★★) \n",
        "(**hint**: np.logical\\_and.reduce, np.mod)"
      ]
    },
    {
      "cell_type": "code",
      "execution_count": 40,
      "metadata": {
        "id": "wvgt_QvM7vNB",
        "colab": {
          "base_uri": "https://localhost:8080/"
        },
        "outputId": "4cd14eab-e912-4258-ccdd-7535082929e5"
      },
      "outputs": [
        {
          "output_type": "stream",
          "name": "stdout",
          "text": [
            "[[2. 0. 1. 1.]]\n"
          ]
        }
      ],
      "source": [
        "X=np.asarray([[1.0, 0.0, 3.0, 8.0],\n",
        "                [2.0, 0.0, 1.0, 1.0],\n",
        "                [1.5, 2.5, 1.0, 0.0]])\n",
        "n=4\n",
        "M=np.logical_and.reduce(np.mod(X, 1) == 0, axis=-1)\n",
        "M&=(X.sum(axis=-1) == n)\n",
        "print(X[M])"
      ]
    },
    {
      "cell_type": "markdown",
      "metadata": {
        "id": "WUp9apAk7vNB"
      },
      "source": [
        "#### 100. Compute bootstrapped 95% confidence intervals for the mean of a 1D array X (i.e., resample the elements of an array with replacement N times, compute the mean of each sample, and then compute percentiles over the means). (★★★) \n",
        "(**hint**: np.percentile)"
      ]
    },
    {
      "cell_type": "code",
      "execution_count": 41,
      "metadata": {
        "id": "3x3aot9p7vNB",
        "colab": {
          "base_uri": "https://localhost:8080/"
        },
        "outputId": "51c61fb8-aa03-4c44-94b5-6d9dd2706eed"
      },
      "outputs": [
        {
          "output_type": "stream",
          "name": "stdout",
          "text": [
            "[-0.20193376  0.1824405 ]\n"
          ]
        }
      ],
      "source": [
        "X = np.random.randn(100) # random 1D array\n",
        "N = 1000 # number of bootstrap samples\n",
        "idx = np.random.randint(0, X.size, (N, X.size))\n",
        "means = X[idx].mean(axis=1)\n",
        "confint = np.percentile(means, [2.5, 97.5])\n",
        "print(confint)"
      ]
    }
  ],
  "metadata": {
    "kernelspec": {
      "display_name": "Python 3",
      "language": "python",
      "name": "python3"
    },
    "language_info": {
      "codemirror_mode": {
        "name": "ipython",
        "version": 3
      },
      "file_extension": ".py",
      "mimetype": "text/x-python",
      "name": "python",
      "nbconvert_exporter": "python",
      "pygments_lexer": "ipython3",
      "version": "3.8.3"
    },
    "colab": {
      "name": "2.Numpy_tasks.ipynb",
      "provenance": []
    }
  },
  "nbformat": 4,
  "nbformat_minor": 0
}